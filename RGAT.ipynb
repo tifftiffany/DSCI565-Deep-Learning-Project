{
 "cells": [
  {
   "cell_type": "code",
   "execution_count": 1,
   "id": "5bd39501",
   "metadata": {
    "id": "5bd39501"
   },
   "outputs": [],
   "source": [
    "from __future__ import division\n",
    "from __future__ import print_function\n",
    "from operator import itemgetter\n",
    "from itertools import combinations\n",
    "import time\n",
    "import os\n",
    "import numpy as np\n",
    "import networkx as nx\n",
    "import scipy.sparse as sp\n",
    "import scipy.io as sio\n",
    "from sklearn import metrics\n",
    "import matplotlib.pyplot as plt\n",
    "import pandas as pd\n",
    "import h5py\n",
    "import pickle\n",
    "import torch"
   ]
  },
  {
   "cell_type": "code",
   "execution_count": 2,
   "id": "aZ4wVG3hZ7Br",
   "metadata": {
    "id": "aZ4wVG3hZ7Br"
   },
   "outputs": [],
   "source": [
    "# gene interaction network\n",
    "gene_phenes_path = './PGCN/data_prioritization/genes_phenes.mat'\n",
    "f = h5py.File(gene_phenes_path, 'r')\n",
    "gene_network_adj = sp.csc_matrix((np.array(f['GeneGene_Hs']['data']),\n",
    "    np.array(f['GeneGene_Hs']['ir']), np.array(f['GeneGene_Hs']['jc'])),\n",
    "    shape=(12331,12331))\n",
    "gene_network_adj = gene_network_adj.tocsr()\n",
    "gene_network_adj_row = (gene_network_adj.tocoo()).row\n",
    "gene_network_adj_col = (gene_network_adj.tocoo()).col\n",
    "gene_network_adj_value = np.array(f['GeneGene_Hs']['data'])\n",
    "\n",
    "disease_network_adj = sp.csc_matrix((np.array(f['PhenotypeSimilarities']['data']),\n",
    "    np.array(f['PhenotypeSimilarities']['ir']), np.array(f['PhenotypeSimilarities']['jc'])),\n",
    "    shape=(3215, 3215))\n",
    "disease_network_adj = disease_network_adj.tocsr()\n",
    "\n",
    "disease_network_adj_row = (disease_network_adj.tocoo()).row\n",
    "disease_network_adj_col = (disease_network_adj.tocoo()).col\n",
    "disease_network_adj_value = np.array(f['PhenotypeSimilarities']['data'])"
   ]
  },
  {
   "cell_type": "markdown",
   "id": "_4HnWRvRJmwq",
   "metadata": {
    "id": "_4HnWRvRJmwq"
   },
   "source": [
    "# New Section"
   ]
  },
  {
   "cell_type": "code",
   "execution_count": 3,
   "id": "8a4e5f51",
   "metadata": {
    "id": "8a4e5f51"
   },
   "outputs": [],
   "source": [
    "# gene disease network\n",
    "dg_ref = f['GenePhene'][0][0]\n",
    "gene_disease_adj = sp.csc_matrix((np.array(f[dg_ref]['data']),\n",
    "    np.array(f[dg_ref]['ir']), np.array(f[dg_ref]['jc'])),\n",
    "    shape=(12331, 3215))\n",
    "gene_disease_adj = gene_disease_adj.tocsr()\n"
   ]
  },
  {
   "cell_type": "code",
   "execution_count": 4,
   "id": "d97e49f0",
   "metadata": {
    "id": "d97e49f0"
   },
   "outputs": [],
   "source": [
    "# novel disease network\n",
    "novel_associations_adj = sp.csc_matrix((np.array(f['NovelAssociations']['data']),\n",
    "    np.array(f['NovelAssociations']['ir']), np.array(f['NovelAssociations']['jc'])),\n",
    "    shape=(12331,3215))\n",
    "novel_associations_adj_row = (novel_associations_adj.tocoo()).row\n",
    "novel_associations_adj_col = (novel_associations_adj.tocoo()).col\n",
    "novel_associations_adj_values = np.array(f['NovelAssociations']['data'])"
   ]
  },
  {
   "cell_type": "code",
   "execution_count": 5,
   "id": "i7MRVypax_7g",
   "metadata": {
    "id": "i7MRVypax_7g"
   },
   "outputs": [],
   "source": [
    "disease_tfidf_path = './PGCN/data_prioritization/clinicalfeatures_tfidf.mat'\n",
    "f_disease_tfidf = h5py.File(disease_tfidf_path,\"r\")\n",
    "disease_tfidf = np.array(f_disease_tfidf['F'])\n",
    "disease_tfidf = np.transpose(disease_tfidf)\n",
    "disease_tfidf = sp.csc_matrix(disease_tfidf)"
   ]
  },
  {
   "cell_type": "code",
   "execution_count": 6,
   "id": "l8LCKBxZyGFK",
   "metadata": {
    "id": "l8LCKBxZyGFK"
   },
   "outputs": [],
   "source": [
    "gene_feature_path = './PGCN/data_prioritization/GeneFeatures.mat'\n",
    "f_gene_feature = h5py.File(gene_feature_path,'r')\n",
    "gene_feature_exp = np.array(f_gene_feature['GeneFeatures'])\n",
    "gene_feature_exp = np.transpose(gene_feature_exp)\n",
    "gene_network_exp = sp.csc_matrix(gene_feature_exp)"
   ]
  },
  {
   "cell_type": "code",
   "execution_count": 7,
   "id": "120d6698",
   "metadata": {
    "id": "120d6698"
   },
   "outputs": [],
   "source": [
    "# Gene feature2:other species features\n",
    "row_list = [3215, 1137, 744, 2503, 1143, 324, 1188, 4662, 1243]\n",
    "gene_feature_list_other_spe = list()\n",
    "for i in range(1,9):\n",
    "    dg_ref = f['GenePhene'][i][0]\n",
    "    disease_gene_adj_tmp = sp.csc_matrix((np.array(f[dg_ref]['data']),\n",
    "        np.array(f[dg_ref]['ir']), np.array(f[dg_ref]['jc'])),\n",
    "        shape=(12331, row_list[i]))\n",
    "    gene_feature_list_other_spe.append(disease_gene_adj_tmp)"
   ]
  },
  {
   "cell_type": "code",
   "execution_count": 8,
   "id": "e2b407a4",
   "metadata": {
    "id": "e2b407a4"
   },
   "outputs": [],
   "source": [
    "gene_feat = sp.hstack(gene_feature_list_other_spe+[gene_feature_exp])\n",
    "\n",
    "dis_feat = disease_tfidf"
   ]
  },
  {
   "cell_type": "code",
   "execution_count": 9,
   "id": "942e36ae",
   "metadata": {
    "id": "942e36ae"
   },
   "outputs": [],
   "source": [
    "### Create the gene disease network from gene network and disease network\n",
    "# gene Network\n",
    "gene_network_adj_row = (gene_network_adj.tocoo()).row\n",
    "gene_network_adj_col = (gene_network_adj.tocoo()).col\n",
    "gene_network_adj_value = np.array(f['GeneGene_Hs']['data'])\n",
    "gene_network_matrix = np.zeros((np.shape(gene_network_adj)))\n",
    "for i,j in zip(gene_network_adj_row,gene_network_adj_col):\n",
    "    gene_network_matrix[i,j] = 1"
   ]
  },
  {
   "cell_type": "code",
   "execution_count": 10,
   "id": "fbebc2d4",
   "metadata": {
    "id": "fbebc2d4"
   },
   "outputs": [],
   "source": [
    "def network_edge_threshold(network_adj, threshold):\n",
    "    edge_tmp, edge_value, shape_tmp = sparse_to_tuple(network_adj)\n",
    "    preserved_edge_index = np.where(edge_value>threshold)[0]\n",
    "    preserved_network = sp.csr_matrix(\n",
    "        (edge_value[preserved_edge_index],\n",
    "        (edge_tmp[preserved_edge_index,0], edge_tmp[preserved_edge_index, 1])),\n",
    "        shape=shape_tmp)\n",
    "    return preserved_network"
   ]
  },
  {
   "cell_type": "code",
   "execution_count": 11,
   "id": "ba851c63",
   "metadata": {
    "id": "ba851c63"
   },
   "outputs": [],
   "source": [
    "def sparse_to_tuple(sparse_mx):\n",
    "    if not sp.isspmatrix_coo(sparse_mx):\n",
    "        sparse_mx = sparse_mx.tocoo()\n",
    "    coords = np.vstack((sparse_mx.row, sparse_mx.col)).transpose()\n",
    "    values = sparse_mx.data\n",
    "    shape = sparse_mx.shape\n",
    "    return coords, values, shape"
   ]
  },
  {
   "cell_type": "code",
   "execution_count": 12,
   "id": "22429e44",
   "metadata": {
    "id": "22429e44"
   },
   "outputs": [],
   "source": [
    "# disease Network\n",
    "disease_network_adj = network_edge_threshold(disease_network_adj,0.2)\n",
    "disease_network_adj_row = (disease_network_adj.tocoo()).row\n",
    "disease_network_adj_col = (disease_network_adj.tocoo()).col\n",
    "disease_network_adj_value = np.array(f['PhenotypeSimilarities']['data'])\n",
    "disease_network_matrix = np.zeros((np.shape(disease_network_adj)))\n",
    "for i,j in zip(disease_network_adj_row,disease_network_adj_col):\n",
    "    disease_network_matrix[i,j] = 1\n",
    "disease_network_matrix = disease_network_matrix - np.diag(np.ones(len(disease_network_matrix)))"
   ]
  },
  {
   "cell_type": "code",
   "execution_count": 13,
   "id": "65f31989",
   "metadata": {
    "id": "65f31989"
   },
   "outputs": [],
   "source": [
    "# gene-disease network\n",
    "novel_associations_adj_row = (novel_associations_adj.tocoo()).row\n",
    "novel_associations_adj_col = (novel_associations_adj.tocoo()).col\n",
    "novel_associations_adj_values = np.array(f['NovelAssociations']['data'])\n",
    "disease_gene_matrix = np.zeros((np.shape(novel_associations_adj)))\n",
    "for i,j in zip(novel_associations_adj_row,novel_associations_adj_col):\n",
    "    disease_gene_matrix[i,j] = 1\n",
    "\n",
    "comb1 = np.hstack((gene_network_matrix,disease_gene_matrix))\n",
    "comb2 = np.hstack((disease_gene_matrix.T,disease_network_matrix))\n",
    "comb = np.vstack((comb1,comb2))"
   ]
  },
  {
   "cell_type": "code",
   "execution_count": 14,
   "id": "15ddc530",
   "metadata": {
    "id": "15ddc530"
   },
   "outputs": [],
   "source": [
    "### Combine the fetaure matrix\n",
    "disease_network_adj_row = (disease_network_adj.tocoo()).row\n",
    "disease_network_adj_col = (disease_network_adj.tocoo()).col\n",
    "disease_network_adj_value = np.array(f['PhenotypeSimilarities']['data'])\n",
    "disease_network_matrix = np.zeros((np.shape(disease_network_adj)))\n",
    "for i,j in zip(disease_network_adj_row,disease_network_adj_col):\n",
    "    disease_network_matrix[i,j] = 1\n",
    "disease_network_matrix = disease_network_matrix - np.diag(np.ones(len(disease_network_matrix)))"
   ]
  },
  {
   "cell_type": "code",
   "execution_count": 15,
   "id": "be2eae24",
   "metadata": {
    "colab": {
     "base_uri": "https://localhost:8080/"
    },
    "id": "be2eae24",
    "outputId": "9ade1a9b-36af-464e-8ea5-372f9cf0fd3f"
   },
   "outputs": [
    {
     "name": "stderr",
     "output_type": "stream",
     "text": [
      "/var/folders/yz/qzhd2qws09x8fn_4dcxrp55h0000gn/T/ipykernel_6642/3211066780.py:4: UserWarning: Creating a tensor from a list of numpy.ndarrays is extremely slow. Please consider converting the list to a single numpy.ndarray with numpy.array() before converting to a tensor. (Triggered internally at /Users/runner/work/pytorch/pytorch/pytorch/torch/csrc/utils/tensor_new.cpp:248.)\n",
      "  edge_index = torch.tensor(comb.nonzero())\n"
     ]
    }
   ],
   "source": [
    "# edge_index, label and the feature matrix that will be used\n",
    "num_disease = 3215\n",
    "num_gene = 12331\n",
    "edge_index = torch.tensor(comb.nonzero())\n",
    "label = torch.zeros(num_disease+num_gene)\n",
    "label[0:num_gene] = 1\n",
    "disease_feat_matrix = dis_feat.tocsc().toarray()\n",
    "gene_feat_matrix = gene_feat.tocsc().toarray()\n",
    "disease_feat_none = np.zeros((num_gene,np.shape(disease_feat_matrix)[1]))\n",
    "gene_feat_none = np.zeros((num_disease,np.shape(gene_feat_matrix)[1]))"
   ]
  },
  {
   "cell_type": "code",
   "execution_count": 16,
   "id": "58e87481",
   "metadata": {
    "id": "58e87481"
   },
   "outputs": [],
   "source": [
    "import numpy as np\n",
    "feature_matrix = np.vstack((np.hstack((gene_feat_matrix, disease_feat_none)), np.hstack(\n",
    "    (gene_feat_none, disease_feat_matrix))))\n",
    "feature_matrix = torch.from_numpy(feature_matrix).double()"
   ]
  },
  {
   "cell_type": "code",
   "execution_count": 17,
   "id": "1xYLBkI80GXW",
   "metadata": {
    "colab": {
     "base_uri": "https://localhost:8080/"
    },
    "id": "1xYLBkI80GXW",
    "outputId": "64424d3b-6a37-42d9-e79c-96e10f3bb263"
   },
   "outputs": [
    {
     "name": "stdout",
     "output_type": "stream",
     "text": [
      "Requirement already satisfied: torch_geometric in /Library/Frameworks/Python.framework/Versions/3.9/lib/python3.9/site-packages (2.4.0)\n",
      "Requirement already satisfied: tqdm in /Library/Frameworks/Python.framework/Versions/3.9/lib/python3.9/site-packages (from torch_geometric) (4.64.0)\n",
      "Requirement already satisfied: numpy in /Library/Frameworks/Python.framework/Versions/3.9/lib/python3.9/site-packages (from torch_geometric) (1.23.5)\n",
      "Requirement already satisfied: psutil>=5.8.0 in /Library/Frameworks/Python.framework/Versions/3.9/lib/python3.9/site-packages (from torch_geometric) (5.9.0)\n",
      "Requirement already satisfied: pyparsing in /Library/Frameworks/Python.framework/Versions/3.9/lib/python3.9/site-packages (from torch_geometric) (3.0.8)\n",
      "Requirement already satisfied: requests in /Library/Frameworks/Python.framework/Versions/3.9/lib/python3.9/site-packages (from torch_geometric) (2.31.0)\n",
      "Requirement already satisfied: jinja2 in /Library/Frameworks/Python.framework/Versions/3.9/lib/python3.9/site-packages (from torch_geometric) (3.1.1)\n",
      "Requirement already satisfied: scipy in /Library/Frameworks/Python.framework/Versions/3.9/lib/python3.9/site-packages (from torch_geometric) (1.10.1)\n",
      "Requirement already satisfied: scikit-learn in /Library/Frameworks/Python.framework/Versions/3.9/lib/python3.9/site-packages (from torch_geometric) (1.1.2)\n",
      "Requirement already satisfied: MarkupSafe>=2.0 in /Library/Frameworks/Python.framework/Versions/3.9/lib/python3.9/site-packages (from jinja2->torch_geometric) (2.1.1)\n",
      "Requirement already satisfied: urllib3<3,>=1.21.1 in /Library/Frameworks/Python.framework/Versions/3.9/lib/python3.9/site-packages (from requests->torch_geometric) (1.26.9)\n",
      "Requirement already satisfied: idna<4,>=2.5 in /Library/Frameworks/Python.framework/Versions/3.9/lib/python3.9/site-packages (from requests->torch_geometric) (3.3)\n",
      "Requirement already satisfied: certifi>=2017.4.17 in /Library/Frameworks/Python.framework/Versions/3.9/lib/python3.9/site-packages (from requests->torch_geometric) (2022.12.7)\n",
      "Requirement already satisfied: charset-normalizer<4,>=2 in /Library/Frameworks/Python.framework/Versions/3.9/lib/python3.9/site-packages (from requests->torch_geometric) (2.0.12)\n",
      "Requirement already satisfied: joblib>=1.0.0 in /Library/Frameworks/Python.framework/Versions/3.9/lib/python3.9/site-packages (from scikit-learn->torch_geometric) (1.1.0)\n",
      "Requirement already satisfied: threadpoolctl>=2.0.0 in /Library/Frameworks/Python.framework/Versions/3.9/lib/python3.9/site-packages (from scikit-learn->torch_geometric) (3.1.0)\n",
      "\n",
      "\u001b[1m[\u001b[0m\u001b[34;49mnotice\u001b[0m\u001b[1;39;49m]\u001b[0m\u001b[39;49m A new release of pip is available: \u001b[0m\u001b[31;49m23.0.1\u001b[0m\u001b[39;49m -> \u001b[0m\u001b[32;49m23.3.1\u001b[0m\n",
      "\u001b[1m[\u001b[0m\u001b[34;49mnotice\u001b[0m\u001b[1;39;49m]\u001b[0m\u001b[39;49m To update, run: \u001b[0m\u001b[32;49mpip install --upgrade pip\u001b[0m\n",
      "Note: you may need to restart the kernel to use updated packages.\n"
     ]
    }
   ],
   "source": [
    "pip install torch_geometric"
   ]
  },
  {
   "cell_type": "code",
   "execution_count": 18,
   "id": "0XtYYYbPyQkk",
   "metadata": {
    "id": "0XtYYYbPyQkk"
   },
   "outputs": [],
   "source": [
    "from torch_geometric.datasets import Entities,Flickr\n",
    "import torch.nn as nn\n",
    "import matplotlib.pyplot as plt\n",
    "import numpy as np\n",
    "import torch\n",
    "import torch.nn.functional as F\n",
    "from torch.nn import Linear\n",
    "from torch.nn import BatchNorm1d\n",
    "from torch.utils.data import Dataset\n",
    "from torch_geometric.nn import GCNConv\n",
    "from torch_geometric.nn import ChebConv\n",
    "from torch_geometric.nn import global_add_pool, global_mean_pool\n",
    "from torch_geometric.data import DataLoader\n",
    "# from torch_scatter import scatter_mean\n",
    "\n",
    "from sklearn.metrics import roc_curve, auc\n",
    "from sklearn.metrics import precision_recall_curve\n",
    "from sklearn.metrics import f1_score\n",
    "import matplotlib as mpl\n",
    "import matplotlib.pyplot as plt\n",
    "\n",
    "from torch_geometric.data import InMemoryDataset\n",
    "from torch_geometric.data import Data\n",
    "import os.path as osp\n",
    "from torch_geometric.data import Dataset\n",
    "from torch_geometric.data import NeighborSampler\n",
    "from torch_geometric.data import Batch, ClusterData, ClusterLoader, DataLoader\n",
    "\n",
    "from torch_geometric.utils import (negative_sampling, remove_self_loops,\n",
    "                                   add_self_loops, structured_negative_sampling,train_test_split_edges)\n",
    "\n",
    "from sklearn.metrics import average_precision_score\n",
    "from sklearn.metrics import roc_auc_score\n",
    "from sklearn.metrics import f1_score\n",
    "from sklearn.metrics import precision_recall_curve\n",
    "\n",
    "import torch_geometric.transforms as T\n",
    "from torch_geometric.nn import GCNConv, ChebConv, RGCNConv  # noqa\n",
    "from torch_geometric.nn import Node2Vec\n",
    "\n",
    "import math\n",
    "import random\n",
    "from torch_geometric.utils import to_undirected\n",
    "from torch_geometric.data import GraphSAINTRandomWalkSampler, GraphSAINTSampler\n",
    "from torch_geometric.utils import degree\n",
    "from torch_geometric.nn import FastRGCNConv\n",
    "\n",
    "import copy\n",
    "\n",
    "# from .utils import DiseaseGeneDataset,train_test_split_edges\n"
   ]
  },
  {
   "cell_type": "code",
   "execution_count": 19,
   "id": "ghvOtDWH5OvM",
   "metadata": {
    "id": "ghvOtDWH5OvM"
   },
   "outputs": [],
   "source": [
    "class DiseaseGeneDataset(InMemoryDataset):\n",
    "    def __init__(self, root, transform=None, pre_transform=None):\n",
    "        super(DiseaseGeneDataset, self).__init__(root, transform,\n",
    "                                                 pre_transform)\n",
    "        self.data, self.slices = torch.load(self.processed_paths[0])\n",
    "\n",
    "    @property\n",
    "    def raw_file_names(self):\n",
    "        return []\n",
    "\n",
    "    @property\n",
    "    def processed_file_names(self):\n",
    "        return ['data.pt']\n",
    "\n",
    "    def download(self):\n",
    "        pass\n",
    "\n",
    "    def process(self):\n",
    "\n",
    "        data_list = []\n",
    "\n",
    "        data = Data(x=feature_matrix, edge_index=edge_index, y=label)\n",
    "        data_list.append(data)\n",
    "\n",
    "        data, slices = self.collate(data_list)\n",
    "        torch.save((data, slices),self.processed_paths[0])"
   ]
  },
  {
   "cell_type": "code",
   "execution_count": 20,
   "id": "vsAWlaKK5IDy",
   "metadata": {
    "id": "vsAWlaKK5IDy"
   },
   "outputs": [],
   "source": [
    "def train_test_split_edges(data, val_ratio=0.1, test_ratio=0.1):\n",
    "    \"\"\"Splits the edges of a :obj:`torch_geometric.data.Data` object\n",
    "    into positive and negative train/val/test edges, and adds attributes of\n",
    "    `train_pos_edge_index`, `train_neg_adj_mask`, `val_pos_edge_index`,\n",
    "    `val_neg_edge_index`, `test_pos_edge_index`, and `test_neg_edge_index`\n",
    "    to :attr:`data`.\n",
    "    Args:\n",
    "        data (Data): The data object.\n",
    "        val_ratio (float, optional): The ratio of positive validation\n",
    "            edges. (default: :obj:`0.05`)\n",
    "        test_ratio (float, optional): The ratio of positive test\n",
    "            edges. (default: :obj:`0.1`)\n",
    "    :rtype: :class:`torch_geometric.data.Data`\n",
    "    \"\"\"\n",
    "\n",
    "    assert 'batch' not in data  # No batch-mode.\n",
    "\n",
    "    num_nodes = data.num_nodes\n",
    "    row, col = data.edge_index\n",
    "    data.edge_index = None\n",
    "\n",
    "    # Return upper triangular portion.\n",
    "    mask = row < col\n",
    "    row, col = row[mask], col[mask]\n",
    "\n",
    "    n_v = int(math.floor(val_ratio * row.size(0)))\n",
    "    n_t = int(math.floor(test_ratio * row.size(0)))\n",
    "\n",
    "    # Positive edges.\n",
    "    perm = torch.randperm(row.size(0))\n",
    "    row, col = row[perm], col[perm]\n",
    "\n",
    "\n",
    "    r, c = row[:n_v], col[:n_v]\n",
    "    data.val_pos_edge_index = torch.stack([r, c], dim=0)\n",
    "    r, c = row[n_v:n_v + n_t], col[n_v:n_v + n_t]\n",
    "    data.test_pos_edge_index = torch.stack([r, c], dim=0)\n",
    "\n",
    "    r, c = row[n_v + n_t:], col[n_v + n_t:]\n",
    "    data.train_pos_edge_index = torch.stack([r, c], dim=0)\n",
    "    data.train_pos_edge_index = to_undirected(data.train_pos_edge_index)\n",
    "\n",
    "    # Negative edges.\n",
    "    neg_adj_mask = torch.ones(num_nodes, num_nodes, dtype=torch.uint8)\n",
    "    neg_adj_mask = neg_adj_mask.triu(diagonal=1).to(torch.bool)\n",
    "    neg_adj_mask[row, col] = 0\n",
    "\n",
    "    neg_row, neg_col = neg_adj_mask.nonzero(as_tuple=False).t()\n",
    "    perm = torch.randperm(neg_row.size(0))[:n_v + n_t]\n",
    "    neg_row, neg_col = neg_row[perm], neg_col[perm]\n",
    "\n",
    "    neg_adj_mask[neg_row, neg_col] = 0\n",
    "    data.train_neg_adj_mask = neg_adj_mask\n",
    "\n",
    "    row, col = neg_row[:n_v], neg_col[:n_v]\n",
    "    data.val_neg_edge_index = torch.stack([row, col], dim=0)\n",
    "\n",
    "    row, col = neg_row[n_v:n_v + n_t], neg_col[n_v:n_v + n_t]\n",
    "    data.test_neg_edge_index = torch.stack([row, col], dim=0)\n",
    "\n",
    "    return data"
   ]
  },
  {
   "cell_type": "code",
   "execution_count": 21,
   "id": "C8Xf_7Rv48nO",
   "metadata": {
    "id": "C8Xf_7Rv48nO"
   },
   "outputs": [],
   "source": [
    "num_nodes = 15546\n",
    "num_features = 37287\n",
    "\n",
    "num_gene = 12331\n",
    "num_Disease = 3215"
   ]
  },
  {
   "cell_type": "code",
   "execution_count": 22,
   "id": "VqPO940QEWaD",
   "metadata": {
    "id": "VqPO940QEWaD"
   },
   "outputs": [],
   "source": [
    "# feature_matrix_np = feature_matrix.numpy()\n",
    "# np.save(\"feature_matrix.txt.npy\", feature_matrix_np)"
   ]
  },
  {
   "cell_type": "code",
   "execution_count": 23,
   "id": "Lu_rSlhHERB9",
   "metadata": {
    "id": "Lu_rSlhHERB9"
   },
   "outputs": [],
   "source": [
    "# feature_matrix = np.load(\"./feature_matrix.txt.npy\")\n",
    "# label = np.load(\"./label.txt.npy\")\n",
    "# edge_index = np.load(\"./edge_index.txt.npy\")"
   ]
  },
  {
   "cell_type": "code",
   "execution_count": 24,
   "id": "GZvu2_ndyQm-",
   "metadata": {
    "id": "GZvu2_ndyQm-"
   },
   "outputs": [],
   "source": [
    "feature_matrix = feature_matrix.reshape((num_nodes,-1))\n",
    "edge_index = edge_index.reshape((2,-1))"
   ]
  },
  {
   "cell_type": "code",
   "execution_count": 25,
   "id": "dnO35nrN-Zwn",
   "metadata": {
    "id": "dnO35nrN-Zwn"
   },
   "outputs": [],
   "source": [
    "feature_matrix = feature_matrix.numpy()"
   ]
  },
  {
   "cell_type": "code",
   "execution_count": 26,
   "id": "WGP5KBFOEp_a",
   "metadata": {
    "id": "WGP5KBFOEp_a"
   },
   "outputs": [],
   "source": [
    "label = label.numpy()"
   ]
  },
  {
   "cell_type": "code",
   "execution_count": 27,
   "id": "Zq7fTJ6CEqGY",
   "metadata": {
    "id": "Zq7fTJ6CEqGY"
   },
   "outputs": [],
   "source": [
    "edge_index = edge_index.numpy()"
   ]
  },
  {
   "cell_type": "code",
   "execution_count": 28,
   "id": "s7zh_NtqyQp0",
   "metadata": {
    "id": "s7zh_NtqyQp0"
   },
   "outputs": [],
   "source": [
    "feature_matrix = torch.from_numpy(feature_matrix)\n",
    "label = torch.from_numpy(label).long()\n",
    "edge_index = torch.from_numpy(edge_index)"
   ]
  },
  {
   "cell_type": "code",
   "execution_count": 29,
   "id": "a-H4Nij8yQsc",
   "metadata": {
    "id": "a-H4Nij8yQsc"
   },
   "outputs": [],
   "source": [
    "device = torch.device('cuda' if torch.cuda.is_available() else 'cpu')"
   ]
  },
  {
   "cell_type": "code",
   "execution_count": 31,
   "id": "spYumKDkyQxD",
   "metadata": {
    "colab": {
     "base_uri": "https://localhost:8080/"
    },
    "id": "spYumKDkyQxD",
    "outputId": "bd0876c2-b084-4b2c-9798-6199cf8b7570"
   },
   "outputs": [
    {
     "name": "stderr",
     "output_type": "stream",
     "text": [
      "Processing...\n",
      "Done!\n"
     ]
    }
   ],
   "source": [
    "dataset_gd = DiseaseGeneDataset(root = \"./disease_gene.dataset\")"
   ]
  },
  {
   "cell_type": "code",
   "execution_count": null,
   "id": "J-CMBIWsL5YA",
   "metadata": {
    "id": "J-CMBIWsL5YA"
   },
   "outputs": [],
   "source": [
    "# import torch\n",
    "# import torch.nn.functional as F\n",
    "# from torch_geometric.nn import GATConv\n",
    "# from torch_geometric.data import Data\n",
    "\n",
    "# class GATNet(torch.nn.Module):\n",
    "#     def __init__(self, num_features, num_heads=8, dropout_rate=0.6):\n",
    "#         super(GATNet, self).__init__()\n",
    "#         self.conv1 = GATConv(num_features, 8, heads=num_heads, dropout=dropout_rate)\n",
    "#         self.conv2 = GATConv(8 * num_heads, 1, heads=1, dropout=dropout_rate)\n",
    "#         self.dropout_rate = dropout_rate  # Store as an instance variable\n",
    "\n",
    "#     def forward(self, x, edge_index):\n",
    "#         x = F.dropout(x, p=self.dropout_rate, training=self.training)\n",
    "#         x = F.elu(self.conv1(x, edge_index))\n",
    "#         x = F.dropout(x, p=self.dropout_rate, training=self.training)\n",
    "#         x = self.conv2(x, edge_index)\n",
    "#         return x\n",
    "\n",
    "\n",
    "# feature_matrix = feature_matrix.float()\n",
    "# edge_index = edge_index.long()\n",
    "\n",
    "# # Validate edge_index here\n",
    "# num_nodes = feature_matrix.size(0)\n",
    "# if edge_index.max().item() >= num_nodes or edge_index.min().item() < 0:\n",
    "#     raise ValueError(f\"Edge index out of range. Valid index range: [0, {num_nodes - 1}], but got range [{edge_index.min().item()}, {edge_index.max().item()}].\")\n",
    "\n",
    "# num_features = feature_matrix.shape[1]\n",
    "# model = GATNet(num_features).float()\n",
    "\n",
    "# label = label.float()  # Ensure label is float\n",
    "# data = Data(x=feature_matrix, edge_index=edge_index, y=label)\n",
    "\n",
    "# device = torch.device('cuda' if torch.cuda.is_available() else 'cpu')\n",
    "# model = model.to(device)\n",
    "# data = data.to(device)\n",
    "\n",
    "# criterion = torch.nn.BCEWithLogitsLoss()\n",
    "# optimizer = torch.optim.Adam(model.parameters(), lr=0.005, weight_decay=5e-4)\n",
    "\n",
    "# for epoch in range(200):\n",
    "#     model.train()\n",
    "#     optimizer.zero_grad()\n",
    "#     out = model(data.x.to(device), data.edge_index.to(device))\n",
    "#     loss = criterion(out.squeeze(), data.y.to(device))\n",
    "#     loss.backward()\n",
    "#     optimizer.step()\n",
    "\n",
    "#     if epoch % 10 == 0:\n",
    "#         print(f'Epoch {epoch+1}, Loss: {loss.item()}')\n",
    "\n"
   ]
  },
  {
   "cell_type": "code",
   "execution_count": 32,
   "id": "vpNQoHN4yQ2T",
   "metadata": {
    "colab": {
     "base_uri": "https://localhost:8080/"
    },
    "id": "vpNQoHN4yQ2T",
    "outputId": "d4a0dba4-4ddd-47fe-b2c8-f4c54b67708e"
   },
   "outputs": [
    {
     "name": "stderr",
     "output_type": "stream",
     "text": [
      "/Library/Frameworks/Python.framework/Versions/3.9/lib/python3.9/site-packages/torch_geometric/data/in_memory_dataset.py:284: UserWarning: It is not recommended to directly access the internal storage format `data` of an 'InMemoryDataset'. If you are absolutely certain what you are doing, access the internal storage via `InMemoryDataset._data` instead to suppress this warning. Alternatively, you can access stacked individual attributes of every graph via `dataset.{attr_name}`.\n",
      "  warnings.warn(msg)\n"
     ]
    }
   ],
   "source": [
    "data = dataset_gd.data\n",
    "data.num_classes = 2\n",
    "data.num_relations = 3\n",
    "data = train_test_split_edges(data, val_ratio=0.05, test_ratio=0.1)\n",
    "data_dropout = copy.deepcopy(data)"
   ]
  },
  {
   "cell_type": "code",
   "execution_count": 33,
   "id": "lvbKwTx7yQ4_",
   "metadata": {
    "id": "lvbKwTx7yQ4_"
   },
   "outputs": [],
   "source": [
    "edge_index = data.train_pos_edge_index\n",
    "num_gene = 12331\n",
    "gg_index = []\n",
    "dd_index = []\n",
    "gd_index = []\n",
    "for i in range(edge_index.shape[1]):\n",
    "    if (edge_index[:,i][0] < num_gene and edge_index[:,i][1] >= num_gene) or (edge_index[:,i][0] >= num_gene and edge_index[:,i][1] <= num_gene):\n",
    "        gd_index.append(i)\n",
    "    elif (edge_index[:,i][0] < num_gene and edge_index[:,i][1] < num_gene):\n",
    "        gg_index.append(i)\n",
    "    else:\n",
    "        dd_index.append(i)"
   ]
  },
  {
   "cell_type": "code",
   "execution_count": 34,
   "id": "UmNbQxouyQ9f",
   "metadata": {
    "id": "UmNbQxouyQ9f"
   },
   "outputs": [],
   "source": [
    "edge_type_gd = torch.zeros(edge_index.shape[1]).long()\n",
    "edge_type_gd[gd_index] = torch.zeros(len(gd_index)).long()\n",
    "edge_type_gd[gg_index] = torch.ones(len(gg_index)).long()\n",
    "edge_type_gd[dd_index] = 2 * torch.ones(len(dd_index)).long()"
   ]
  },
  {
   "cell_type": "code",
   "execution_count": 35,
   "id": "SxmOOAyNFI9z",
   "metadata": {
    "id": "SxmOOAyNFI9z"
   },
   "outputs": [],
   "source": [
    "data.edge_type = edge_type_gd\n",
    "data_dropout.edge_type = edge_type_gd"
   ]
  },
  {
   "cell_type": "code",
   "execution_count": 36,
   "id": "8Mkwt2Q7FLsc",
   "metadata": {
    "id": "8Mkwt2Q7FLsc"
   },
   "outputs": [],
   "source": [
    "class Net(torch.nn.Module):\n",
    "    def __init__(self):\n",
    "        super(Net, self).__init__()\n",
    "        self.conv1 = RGATConv(data.num_features, 32, data.num_relations,\n",
    "                              num_bases=30)\n",
    "        self.conv2 = RGATConv(32, 16, data.num_relations,\n",
    "                              num_bases=30)\n",
    "        self.fc1 = Linear(16, 16)\n",
    "\n",
    "        self.Dropconv1 = GCNConv(data.num_features, 16, cached=False).to(torch.double)\n",
    "        self.Dropconv2 = GCNConv(16, 16, cached=False).to(torch.double)\n",
    "        self.Dropfc1 = Linear(16, 16).to(torch.double)\n",
    "\n",
    "    def reparameterize(self,logvar):\n",
    "        std = torch.exp(-0.5*logvar)\n",
    "        return std\n",
    "\n",
    "    def getvar(self):\n",
    "        x = F.relu(self.Dropconv1(data.x, data.train_pos_edge_index))\n",
    "        x = self.Dropconv2(x, data.train_pos_edge_index)\n",
    "        x = self.Dropfc1(x)\n",
    "        return x\n",
    "\n",
    "    def GCN(self,z=None):\n",
    "\n",
    "        y = F.relu(self.conv1(data.x, data.train_pos_edge_index, data.edge_type))\n",
    "        y = self.conv2(y, data.train_pos_edge_index, data.edge_type)\n",
    "        y = self.fc1(y)\n",
    "        if TRAIN:\n",
    "            y_out = y.mul(torch.randn(y.size()).to(device).mul(z)+1)\n",
    "        else:\n",
    "            y_out = y\n",
    "        return y_out\n",
    "\n",
    "\n",
    "    def forward(self, pos_edge_index, neg_edge_index):\n",
    "        if TRAIN:\n",
    "            z = self.reparameterize(self.getvar())\n",
    "            out = self.GCN(z)\n",
    "            total_edge_index = torch.cat([pos_edge_index, neg_edge_index], dim=-1)\n",
    "            x_j = torch.index_select(out, 0, total_edge_index[0])\n",
    "            x_i = torch.index_select(out, 0, total_edge_index[1])\n",
    "            return torch.einsum(\"ef,ef->e\", x_i, x_j), z, out\n",
    "        else:\n",
    "            out = self.GCN()\n",
    "            total_edge_index = torch.cat([pos_edge_index, neg_edge_index], dim=-1)\n",
    "            x_j = torch.index_select(out, 0, total_edge_index[0])\n",
    "            x_i = torch.index_select(out, 0, total_edge_index[1])\n",
    "            return torch.einsum(\"ef,ef->e\", x_i, x_j), None, out  # Return None for the second value"
   ]
  },
  {
   "cell_type": "code",
   "execution_count": 37,
   "id": "BrreDZM9F8B6",
   "metadata": {
    "id": "BrreDZM9F8B6"
   },
   "outputs": [],
   "source": [
    "class My_loss(torch.nn.Module):\n",
    "    def __init__(self):\n",
    "        super().__init__()\n",
    "\n",
    "    def forward(self, x, y, y_d):\n",
    "        loss = F.binary_cross_entropy_with_logits(x, y)\n",
    "        if y_d is not None:\n",
    "            loss += 0.000001 * torch.sum(torch.sum(torch.log(y_d)**2))\n",
    "        return loss\n",
    "\n",
    "def get_link_labels(pos_edge_index, neg_edge_index):\n",
    "    link_labels = torch.zeros(pos_edge_index.size(1) +\n",
    "                              neg_edge_index.size(1)).float().to(device)\n",
    "    link_labels[:pos_edge_index.size(1)] = 1.\n",
    "    return link_labels\n",
    "\n",
    "def get_dis_gene_edges(edge_indices,edge_type):\n",
    "    edges = []\n",
    "    for i in range(edge_indices.shape[1]):\n",
    "        if (edge_indices[:,i][0] < num_gene and edge_indices[:,i][1] >= num_gene) or (edge_indices[:,i][0] >= num_gene and edge_indices[:,i][1] < num_gene):\n",
    "            edges.append(i)\n",
    "    return edge_indices[:,edges],edge_type[edges]"
   ]
  },
  {
   "cell_type": "code",
   "execution_count": 38,
   "id": "ZtIpon3ZF8JM",
   "metadata": {
    "id": "ZtIpon3ZF8JM"
   },
   "outputs": [],
   "source": [
    "train_pos_edge_index,train_edge_type = get_dis_gene_edges(data.train_pos_edge_index,data.edge_type)\n",
    "data.train_pos_edge_index = train_pos_edge_index\n",
    "data.edge_type = train_edge_type"
   ]
  },
  {
   "cell_type": "code",
   "execution_count": 39,
   "id": "xqwarCmrF8L8",
   "metadata": {
    "id": "xqwarCmrF8L8"
   },
   "outputs": [],
   "source": [
    "def train():\n",
    "    TRAIN = True\n",
    "    model.train()\n",
    "    optimizer.zero_grad()\n",
    "\n",
    "    x, pos_edge_index = data.x, data.train_pos_edge_index\n",
    "\n",
    "    _edge_index, _ = remove_self_loops(pos_edge_index)\n",
    "    pos_edge_index_with_self_loops, _ = add_self_loops(_edge_index,\n",
    "                                                       num_nodes=x.size(0))\n",
    "\n",
    "    neg_edge_index = negative_sampling(\n",
    "        edge_index=pos_edge_index_with_self_loops, num_nodes=x.size(0),\n",
    "        num_neg_samples=3 * pos_edge_index.size(1))\n",
    "\n",
    "    neg_edge_type = torch.zeros(neg_edge_index.shape[1]).long()\n",
    "    neg_edge_index, neg_edge_type = get_dis_gene_edges(neg_edge_index,neg_edge_type)\n",
    "\n",
    "    link_logits,y_d,node_embedding = model(pos_edge_index, neg_edge_index)\n",
    "    link_labels = get_link_labels(pos_edge_index, neg_edge_index)\n",
    "\n",
    "    #print(\"TrainROC:\",roc_auc_score(link_labels.detach().cpu(), torch.sigmoid(link_logits.detach().cpu())),\"TrainPRC:\",average_precision_score(link_labels.detach().cpu(), torch.sigmoid(link_logits.detach().cpu())))\n",
    "\n",
    "    criterion = My_loss()\n",
    "    loss = criterion(link_logits, link_labels, y_d)\n",
    "    loss.backward()\n",
    "    optimizer.step()\n",
    "\n",
    "    return loss\n"
   ]
  },
  {
   "cell_type": "code",
   "execution_count": 40,
   "id": "7HgrwTpyF8Ov",
   "metadata": {
    "id": "7HgrwTpyF8Ov"
   },
   "outputs": [],
   "source": [
    "from torch_geometric.nn import RGATConv\n",
    "model, data, data_dropout = Net().to(device), data.to(device), data_dropout.to(device)\n",
    "optimizer = torch.optim.Adam(model.parameters(), lr=0.001, weight_decay=0.0005)\n",
    "model = model.double()\n",
    "test_pos = []\n",
    "for i in range(data.test_pos_edge_index.shape[1]):\n",
    "    if (data.test_pos_edge_index[:,i][0] < num_gene and data.test_pos_edge_index[:,i][1] >= num_gene) or (data.test_pos_edge_index[:,i][0] >= num_gene and data.test_pos_edge_index[:,i][1] <= num_gene):\n",
    "        test_pos.append(i)\n",
    "test_pos_edge_index = data.test_pos_edge_index[:,test_pos].to(device)\n",
    "\n",
    "test_neg = []\n",
    "for i in range(data.test_neg_edge_index.shape[1]):\n",
    "    if (data.test_neg_edge_index[:,i][0] < num_gene and data.test_neg_edge_index[:,i][1] >= num_gene) or (data.test_neg_edge_index[:,i][0] >= num_gene and data.test_neg_edge_index[:,i][1] <= num_gene):\n",
    "        test_neg.append(i)\n",
    "test_neg_edge_index = data.test_neg_edge_index[:,test_neg].to(device)\n",
    "\n",
    "@torch.no_grad()\n",
    "def test():\n",
    "    TRAIN = False\n",
    "    model.eval()\n",
    "    link_probs = torch.sigmoid(model(test_pos_edge_index, test_neg_edge_index[:,range(test_pos_edge_index.shape[1])])[0])\n",
    "    link_labels = get_link_labels(test_pos_edge_index, test_neg_edge_index[:,range(test_pos_edge_index.shape[1])])\n",
    "    link_probs = link_probs.detach().cpu().numpy()\n",
    "    link_labels = link_labels.detach().cpu().numpy()\n",
    "    #print(\"TestROC:\",roc_auc_score(link_labels, link_probs))\n",
    "    #print(\"TestPRC:\",average_precision_score(link_labels, link_probs))\n",
    "\n",
    "    return link_labels, link_probs\n",
    "\n",
    "best_val_perf = test_perf = 0\n",
    "\n"
   ]
  },
  {
   "cell_type": "code",
   "execution_count": 41,
   "id": "RfjLEdMNF8RY",
   "metadata": {
    "id": "RfjLEdMNF8RY"
   },
   "outputs": [
    {
     "ename": "KeyboardInterrupt",
     "evalue": "",
     "output_type": "error",
     "traceback": [
      "\u001b[0;31m---------------------------------------------------------------------------\u001b[0m",
      "\u001b[0;31mKeyboardInterrupt\u001b[0m                         Traceback (most recent call last)",
      "Input \u001b[0;32mIn [41]\u001b[0m, in \u001b[0;36m<cell line: 1>\u001b[0;34m()\u001b[0m\n\u001b[1;32m      1\u001b[0m \u001b[38;5;28;01mfor\u001b[39;00m epoch \u001b[38;5;129;01min\u001b[39;00m \u001b[38;5;28mrange\u001b[39m(\u001b[38;5;241m1\u001b[39m, \u001b[38;5;241m700\u001b[39m):\n\u001b[1;32m      2\u001b[0m     TRAIN \u001b[38;5;241m=\u001b[39m \u001b[38;5;28;01mTrue\u001b[39;00m\n\u001b[0;32m----> 3\u001b[0m     train_loss \u001b[38;5;241m=\u001b[39m \u001b[43mtrain\u001b[49m\u001b[43m(\u001b[49m\u001b[43m)\u001b[49m\n\u001b[1;32m      4\u001b[0m     TRAIN \u001b[38;5;241m=\u001b[39m \u001b[38;5;28;01mFalse\u001b[39;00m\n\u001b[1;32m      5\u001b[0m     labels, probs \u001b[38;5;241m=\u001b[39m test()\n",
      "Input \u001b[0;32mIn [39]\u001b[0m, in \u001b[0;36mtrain\u001b[0;34m()\u001b[0m\n\u001b[1;32m     16\u001b[0m neg_edge_type \u001b[38;5;241m=\u001b[39m torch\u001b[38;5;241m.\u001b[39mzeros(neg_edge_index\u001b[38;5;241m.\u001b[39mshape[\u001b[38;5;241m1\u001b[39m])\u001b[38;5;241m.\u001b[39mlong()\n\u001b[1;32m     17\u001b[0m neg_edge_index, neg_edge_type \u001b[38;5;241m=\u001b[39m get_dis_gene_edges(neg_edge_index,neg_edge_type)\n\u001b[0;32m---> 19\u001b[0m link_logits,y_d,node_embedding \u001b[38;5;241m=\u001b[39m \u001b[43mmodel\u001b[49m\u001b[43m(\u001b[49m\u001b[43mpos_edge_index\u001b[49m\u001b[43m,\u001b[49m\u001b[43m \u001b[49m\u001b[43mneg_edge_index\u001b[49m\u001b[43m)\u001b[49m\n\u001b[1;32m     20\u001b[0m link_labels \u001b[38;5;241m=\u001b[39m get_link_labels(pos_edge_index, neg_edge_index)\n\u001b[1;32m     22\u001b[0m \u001b[38;5;66;03m#print(\"TrainROC:\",roc_auc_score(link_labels.detach().cpu(), torch.sigmoid(link_logits.detach().cpu())),\"TrainPRC:\",average_precision_score(link_labels.detach().cpu(), torch.sigmoid(link_logits.detach().cpu())))\u001b[39;00m\n",
      "File \u001b[0;32m/Library/Frameworks/Python.framework/Versions/3.9/lib/python3.9/site-packages/torch/nn/modules/module.py:1501\u001b[0m, in \u001b[0;36mModule._call_impl\u001b[0;34m(self, *args, **kwargs)\u001b[0m\n\u001b[1;32m   1496\u001b[0m \u001b[38;5;66;03m# If we don't have any hooks, we want to skip the rest of the logic in\u001b[39;00m\n\u001b[1;32m   1497\u001b[0m \u001b[38;5;66;03m# this function, and just call forward.\u001b[39;00m\n\u001b[1;32m   1498\u001b[0m \u001b[38;5;28;01mif\u001b[39;00m \u001b[38;5;129;01mnot\u001b[39;00m (\u001b[38;5;28mself\u001b[39m\u001b[38;5;241m.\u001b[39m_backward_hooks \u001b[38;5;129;01mor\u001b[39;00m \u001b[38;5;28mself\u001b[39m\u001b[38;5;241m.\u001b[39m_backward_pre_hooks \u001b[38;5;129;01mor\u001b[39;00m \u001b[38;5;28mself\u001b[39m\u001b[38;5;241m.\u001b[39m_forward_hooks \u001b[38;5;129;01mor\u001b[39;00m \u001b[38;5;28mself\u001b[39m\u001b[38;5;241m.\u001b[39m_forward_pre_hooks\n\u001b[1;32m   1499\u001b[0m         \u001b[38;5;129;01mor\u001b[39;00m _global_backward_pre_hooks \u001b[38;5;129;01mor\u001b[39;00m _global_backward_hooks\n\u001b[1;32m   1500\u001b[0m         \u001b[38;5;129;01mor\u001b[39;00m _global_forward_hooks \u001b[38;5;129;01mor\u001b[39;00m _global_forward_pre_hooks):\n\u001b[0;32m-> 1501\u001b[0m     \u001b[38;5;28;01mreturn\u001b[39;00m \u001b[43mforward_call\u001b[49m\u001b[43m(\u001b[49m\u001b[38;5;241;43m*\u001b[39;49m\u001b[43margs\u001b[49m\u001b[43m,\u001b[49m\u001b[43m \u001b[49m\u001b[38;5;241;43m*\u001b[39;49m\u001b[38;5;241;43m*\u001b[39;49m\u001b[43mkwargs\u001b[49m\u001b[43m)\u001b[49m\n\u001b[1;32m   1502\u001b[0m \u001b[38;5;66;03m# Do not call functions when jit is used\u001b[39;00m\n\u001b[1;32m   1503\u001b[0m full_backward_hooks, non_full_backward_hooks \u001b[38;5;241m=\u001b[39m [], []\n",
      "Input \u001b[0;32mIn [36]\u001b[0m, in \u001b[0;36mNet.forward\u001b[0;34m(self, pos_edge_index, neg_edge_index)\u001b[0m\n\u001b[1;32m     36\u001b[0m \u001b[38;5;28;01mdef\u001b[39;00m \u001b[38;5;21mforward\u001b[39m(\u001b[38;5;28mself\u001b[39m, pos_edge_index, neg_edge_index):\n\u001b[1;32m     37\u001b[0m     \u001b[38;5;28;01mif\u001b[39;00m TRAIN:\n\u001b[0;32m---> 38\u001b[0m         z \u001b[38;5;241m=\u001b[39m \u001b[38;5;28mself\u001b[39m\u001b[38;5;241m.\u001b[39mreparameterize(\u001b[38;5;28;43mself\u001b[39;49m\u001b[38;5;241;43m.\u001b[39;49m\u001b[43mgetvar\u001b[49m\u001b[43m(\u001b[49m\u001b[43m)\u001b[49m)\n\u001b[1;32m     39\u001b[0m         out \u001b[38;5;241m=\u001b[39m \u001b[38;5;28mself\u001b[39m\u001b[38;5;241m.\u001b[39mGCN(z)\n\u001b[1;32m     40\u001b[0m         total_edge_index \u001b[38;5;241m=\u001b[39m torch\u001b[38;5;241m.\u001b[39mcat([pos_edge_index, neg_edge_index], dim\u001b[38;5;241m=\u001b[39m\u001b[38;5;241m-\u001b[39m\u001b[38;5;241m1\u001b[39m)\n",
      "Input \u001b[0;32mIn [36]\u001b[0m, in \u001b[0;36mNet.getvar\u001b[0;34m(self)\u001b[0m\n\u001b[1;32m     18\u001b[0m \u001b[38;5;28;01mdef\u001b[39;00m \u001b[38;5;21mgetvar\u001b[39m(\u001b[38;5;28mself\u001b[39m):\n\u001b[0;32m---> 19\u001b[0m     x \u001b[38;5;241m=\u001b[39m F\u001b[38;5;241m.\u001b[39mrelu(\u001b[38;5;28;43mself\u001b[39;49m\u001b[38;5;241;43m.\u001b[39;49m\u001b[43mDropconv1\u001b[49m\u001b[43m(\u001b[49m\u001b[43mdata\u001b[49m\u001b[38;5;241;43m.\u001b[39;49m\u001b[43mx\u001b[49m\u001b[43m,\u001b[49m\u001b[43m \u001b[49m\u001b[43mdata\u001b[49m\u001b[38;5;241;43m.\u001b[39;49m\u001b[43mtrain_pos_edge_index\u001b[49m\u001b[43m)\u001b[49m)\n\u001b[1;32m     20\u001b[0m     x \u001b[38;5;241m=\u001b[39m \u001b[38;5;28mself\u001b[39m\u001b[38;5;241m.\u001b[39mDropconv2(x, data\u001b[38;5;241m.\u001b[39mtrain_pos_edge_index)\n\u001b[1;32m     21\u001b[0m     x \u001b[38;5;241m=\u001b[39m \u001b[38;5;28mself\u001b[39m\u001b[38;5;241m.\u001b[39mDropfc1(x)\n",
      "File \u001b[0;32m/Library/Frameworks/Python.framework/Versions/3.9/lib/python3.9/site-packages/torch/nn/modules/module.py:1501\u001b[0m, in \u001b[0;36mModule._call_impl\u001b[0;34m(self, *args, **kwargs)\u001b[0m\n\u001b[1;32m   1496\u001b[0m \u001b[38;5;66;03m# If we don't have any hooks, we want to skip the rest of the logic in\u001b[39;00m\n\u001b[1;32m   1497\u001b[0m \u001b[38;5;66;03m# this function, and just call forward.\u001b[39;00m\n\u001b[1;32m   1498\u001b[0m \u001b[38;5;28;01mif\u001b[39;00m \u001b[38;5;129;01mnot\u001b[39;00m (\u001b[38;5;28mself\u001b[39m\u001b[38;5;241m.\u001b[39m_backward_hooks \u001b[38;5;129;01mor\u001b[39;00m \u001b[38;5;28mself\u001b[39m\u001b[38;5;241m.\u001b[39m_backward_pre_hooks \u001b[38;5;129;01mor\u001b[39;00m \u001b[38;5;28mself\u001b[39m\u001b[38;5;241m.\u001b[39m_forward_hooks \u001b[38;5;129;01mor\u001b[39;00m \u001b[38;5;28mself\u001b[39m\u001b[38;5;241m.\u001b[39m_forward_pre_hooks\n\u001b[1;32m   1499\u001b[0m         \u001b[38;5;129;01mor\u001b[39;00m _global_backward_pre_hooks \u001b[38;5;129;01mor\u001b[39;00m _global_backward_hooks\n\u001b[1;32m   1500\u001b[0m         \u001b[38;5;129;01mor\u001b[39;00m _global_forward_hooks \u001b[38;5;129;01mor\u001b[39;00m _global_forward_pre_hooks):\n\u001b[0;32m-> 1501\u001b[0m     \u001b[38;5;28;01mreturn\u001b[39;00m \u001b[43mforward_call\u001b[49m\u001b[43m(\u001b[49m\u001b[38;5;241;43m*\u001b[39;49m\u001b[43margs\u001b[49m\u001b[43m,\u001b[49m\u001b[43m \u001b[49m\u001b[38;5;241;43m*\u001b[39;49m\u001b[38;5;241;43m*\u001b[39;49m\u001b[43mkwargs\u001b[49m\u001b[43m)\u001b[49m\n\u001b[1;32m   1502\u001b[0m \u001b[38;5;66;03m# Do not call functions when jit is used\u001b[39;00m\n\u001b[1;32m   1503\u001b[0m full_backward_hooks, non_full_backward_hooks \u001b[38;5;241m=\u001b[39m [], []\n",
      "File \u001b[0;32m/Library/Frameworks/Python.framework/Versions/3.9/lib/python3.9/site-packages/torch_geometric/nn/conv/gcn_conv.py:241\u001b[0m, in \u001b[0;36mGCNConv.forward\u001b[0;34m(self, x, edge_index, edge_weight)\u001b[0m\n\u001b[1;32m    238\u001b[0m         \u001b[38;5;28;01melse\u001b[39;00m:\n\u001b[1;32m    239\u001b[0m             edge_index \u001b[38;5;241m=\u001b[39m cache\n\u001b[0;32m--> 241\u001b[0m x \u001b[38;5;241m=\u001b[39m \u001b[38;5;28;43mself\u001b[39;49m\u001b[38;5;241;43m.\u001b[39;49m\u001b[43mlin\u001b[49m\u001b[43m(\u001b[49m\u001b[43mx\u001b[49m\u001b[43m)\u001b[49m\n\u001b[1;32m    243\u001b[0m \u001b[38;5;66;03m# propagate_type: (x: Tensor, edge_weight: OptTensor)\u001b[39;00m\n\u001b[1;32m    244\u001b[0m out \u001b[38;5;241m=\u001b[39m \u001b[38;5;28mself\u001b[39m\u001b[38;5;241m.\u001b[39mpropagate(edge_index, x\u001b[38;5;241m=\u001b[39mx, edge_weight\u001b[38;5;241m=\u001b[39medge_weight,\n\u001b[1;32m    245\u001b[0m                      size\u001b[38;5;241m=\u001b[39m\u001b[38;5;28;01mNone\u001b[39;00m)\n",
      "File \u001b[0;32m/Library/Frameworks/Python.framework/Versions/3.9/lib/python3.9/site-packages/torch/nn/modules/module.py:1501\u001b[0m, in \u001b[0;36mModule._call_impl\u001b[0;34m(self, *args, **kwargs)\u001b[0m\n\u001b[1;32m   1496\u001b[0m \u001b[38;5;66;03m# If we don't have any hooks, we want to skip the rest of the logic in\u001b[39;00m\n\u001b[1;32m   1497\u001b[0m \u001b[38;5;66;03m# this function, and just call forward.\u001b[39;00m\n\u001b[1;32m   1498\u001b[0m \u001b[38;5;28;01mif\u001b[39;00m \u001b[38;5;129;01mnot\u001b[39;00m (\u001b[38;5;28mself\u001b[39m\u001b[38;5;241m.\u001b[39m_backward_hooks \u001b[38;5;129;01mor\u001b[39;00m \u001b[38;5;28mself\u001b[39m\u001b[38;5;241m.\u001b[39m_backward_pre_hooks \u001b[38;5;129;01mor\u001b[39;00m \u001b[38;5;28mself\u001b[39m\u001b[38;5;241m.\u001b[39m_forward_hooks \u001b[38;5;129;01mor\u001b[39;00m \u001b[38;5;28mself\u001b[39m\u001b[38;5;241m.\u001b[39m_forward_pre_hooks\n\u001b[1;32m   1499\u001b[0m         \u001b[38;5;129;01mor\u001b[39;00m _global_backward_pre_hooks \u001b[38;5;129;01mor\u001b[39;00m _global_backward_hooks\n\u001b[1;32m   1500\u001b[0m         \u001b[38;5;129;01mor\u001b[39;00m _global_forward_hooks \u001b[38;5;129;01mor\u001b[39;00m _global_forward_pre_hooks):\n\u001b[0;32m-> 1501\u001b[0m     \u001b[38;5;28;01mreturn\u001b[39;00m \u001b[43mforward_call\u001b[49m\u001b[43m(\u001b[49m\u001b[38;5;241;43m*\u001b[39;49m\u001b[43margs\u001b[49m\u001b[43m,\u001b[49m\u001b[43m \u001b[49m\u001b[38;5;241;43m*\u001b[39;49m\u001b[38;5;241;43m*\u001b[39;49m\u001b[43mkwargs\u001b[49m\u001b[43m)\u001b[49m\n\u001b[1;32m   1502\u001b[0m \u001b[38;5;66;03m# Do not call functions when jit is used\u001b[39;00m\n\u001b[1;32m   1503\u001b[0m full_backward_hooks, non_full_backward_hooks \u001b[38;5;241m=\u001b[39m [], []\n",
      "File \u001b[0;32m/Library/Frameworks/Python.framework/Versions/3.9/lib/python3.9/site-packages/torch_geometric/nn/dense/linear.py:130\u001b[0m, in \u001b[0;36mLinear.forward\u001b[0;34m(self, x)\u001b[0m\n\u001b[1;32m    125\u001b[0m \u001b[38;5;28;01mdef\u001b[39;00m \u001b[38;5;21mforward\u001b[39m(\u001b[38;5;28mself\u001b[39m, x: Tensor) \u001b[38;5;241m-\u001b[39m\u001b[38;5;241m>\u001b[39m Tensor:\n\u001b[1;32m    126\u001b[0m     \u001b[38;5;124mr\u001b[39m\u001b[38;5;124;03m\"\"\"\u001b[39;00m\n\u001b[1;32m    127\u001b[0m \u001b[38;5;124;03m    Args:\u001b[39;00m\n\u001b[1;32m    128\u001b[0m \u001b[38;5;124;03m        x (torch.Tensor): The input features.\u001b[39;00m\n\u001b[1;32m    129\u001b[0m \u001b[38;5;124;03m    \"\"\"\u001b[39;00m\n\u001b[0;32m--> 130\u001b[0m     \u001b[38;5;28;01mreturn\u001b[39;00m \u001b[43mF\u001b[49m\u001b[38;5;241;43m.\u001b[39;49m\u001b[43mlinear\u001b[49m\u001b[43m(\u001b[49m\u001b[43mx\u001b[49m\u001b[43m,\u001b[49m\u001b[43m \u001b[49m\u001b[38;5;28;43mself\u001b[39;49m\u001b[38;5;241;43m.\u001b[39;49m\u001b[43mweight\u001b[49m\u001b[43m,\u001b[49m\u001b[43m \u001b[49m\u001b[38;5;28;43mself\u001b[39;49m\u001b[38;5;241;43m.\u001b[39;49m\u001b[43mbias\u001b[49m\u001b[43m)\u001b[49m\n",
      "\u001b[0;31mKeyboardInterrupt\u001b[0m: "
     ]
    }
   ],
   "source": [
    "for epoch in range(1, 700):\n",
    "    TRAIN = True\n",
    "    train_loss = train()\n",
    "    TRAIN = False\n",
    "    labels, probs = test()"
   ]
  },
  {
   "cell_type": "code",
   "execution_count": null,
   "id": "d07cf6c9",
   "metadata": {},
   "outputs": [],
   "source": []
  }
 ],
 "metadata": {
  "colab": {
   "machine_shape": "hm",
   "provenance": []
  },
  "kernelspec": {
   "display_name": "Python 3 (ipykernel)",
   "language": "python",
   "name": "python3"
  },
  "language_info": {
   "codemirror_mode": {
    "name": "ipython",
    "version": 3
   },
   "file_extension": ".py",
   "mimetype": "text/x-python",
   "name": "python",
   "nbconvert_exporter": "python",
   "pygments_lexer": "ipython3",
   "version": "3.9.5"
  }
 },
 "nbformat": 4,
 "nbformat_minor": 5
}
