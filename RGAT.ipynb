{
  "cells": [
    {
      "cell_type": "code",
      "execution_count": null,
      "metadata": {
        "id": "5bd39501"
      },
      "outputs": [],
      "source": [
        "from __future__ import division\n",
        "from __future__ import print_function\n",
        "from operator import itemgetter\n",
        "from itertools import combinations\n",
        "import time\n",
        "import os\n",
        "import numpy as np\n",
        "import networkx as nx\n",
        "import scipy.sparse as sp\n",
        "import scipy.io as sio\n",
        "from sklearn import metrics\n",
        "import matplotlib.pyplot as plt\n",
        "import pandas as pd\n",
        "import h5py\n",
        "import pickle\n",
        "import torch"
      ],
      "id": "5bd39501"
    },
    {
      "cell_type": "code",
      "execution_count": null,
      "metadata": {
        "id": "aZ4wVG3hZ7Br"
      },
      "outputs": [],
      "source": [
        "# gene interaction network\n",
        "gene_phenes_path = '/PGCN/data_prioritization/genes_phenes.mat'\n",
        "f = h5py.File(gene_phenes_path, 'r')\n",
        "gene_network_adj = sp.csc_matrix((np.array(f['GeneGene_Hs']['data']),\n",
        "    np.array(f['GeneGene_Hs']['ir']), np.array(f['GeneGene_Hs']['jc'])),\n",
        "    shape=(12331,12331))\n",
        "gene_network_adj = gene_network_adj.tocsr()\n",
        "gene_network_adj_row = (gene_network_adj.tocoo()).row\n",
        "gene_network_adj_col = (gene_network_adj.tocoo()).col\n",
        "gene_network_adj_value = np.array(f['GeneGene_Hs']['data'])\n",
        "\n",
        "disease_network_adj = sp.csc_matrix((np.array(f['PhenotypeSimilarities']['data']),\n",
        "    np.array(f['PhenotypeSimilarities']['ir']), np.array(f['PhenotypeSimilarities']['jc'])),\n",
        "    shape=(3215, 3215))\n",
        "disease_network_adj = disease_network_adj.tocsr()\n",
        "\n",
        "disease_network_adj_row = (disease_network_adj.tocoo()).row\n",
        "disease_network_adj_col = (disease_network_adj.tocoo()).col\n",
        "disease_network_adj_value = np.array(f['PhenotypeSimilarities']['data'])"
      ],
      "id": "aZ4wVG3hZ7Br"
    },
    {
      "cell_type": "markdown",
      "metadata": {
        "id": "_4HnWRvRJmwq"
      },
      "source": [
        "# New Section"
      ],
      "id": "_4HnWRvRJmwq"
    },
    {
      "cell_type": "code",
      "execution_count": null,
      "metadata": {
        "id": "8a4e5f51"
      },
      "outputs": [],
      "source": [
        "# gene disease network\n",
        "dg_ref = f['GenePhene'][0][0]\n",
        "gene_disease_adj = sp.csc_matrix((np.array(f[dg_ref]['data']),\n",
        "    np.array(f[dg_ref]['ir']), np.array(f[dg_ref]['jc'])),\n",
        "    shape=(12331, 3215))\n",
        "gene_disease_adj = gene_disease_adj.tocsr()\n"
      ],
      "id": "8a4e5f51"
    },
    {
      "cell_type": "code",
      "execution_count": null,
      "metadata": {
        "id": "d97e49f0"
      },
      "outputs": [],
      "source": [
        "# novel disease network\n",
        "novel_associations_adj = sp.csc_matrix((np.array(f['NovelAssociations']['data']),\n",
        "    np.array(f['NovelAssociations']['ir']), np.array(f['NovelAssociations']['jc'])),\n",
        "    shape=(12331,3215))\n",
        "novel_associations_adj_row = (novel_associations_adj.tocoo()).row\n",
        "novel_associations_adj_col = (novel_associations_adj.tocoo()).col\n",
        "novel_associations_adj_values = np.array(f['NovelAssociations']['data'])"
      ],
      "id": "d97e49f0"
    },
    {
      "cell_type": "code",
      "execution_count": null,
      "metadata": {
        "id": "i7MRVypax_7g"
      },
      "outputs": [],
      "source": [
        "disease_tfidf_path = '/PGCN/data_prioritization/clinicalfeatures_tfidf.mat'\n",
        "f_disease_tfidf = h5py.File(disease_tfidf_path,\"r\")\n",
        "disease_tfidf = np.array(f_disease_tfidf['F'])\n",
        "disease_tfidf = np.transpose(disease_tfidf)\n",
        "disease_tfidf = sp.csc_matrix(disease_tfidf)"
      ],
      "id": "i7MRVypax_7g"
    },
    {
      "cell_type": "code",
      "execution_count": null,
      "metadata": {
        "id": "l8LCKBxZyGFK"
      },
      "outputs": [],
      "source": [
        "gene_feature_path = '/PGCN/data_prioritization/GeneFeatures.mat'\n",
        "f_gene_feature = h5py.File(gene_feature_path,'r')\n",
        "gene_feature_exp = np.array(f_gene_feature['GeneFeatures'])\n",
        "gene_feature_exp = np.transpose(gene_feature_exp)\n",
        "gene_network_exp = sp.csc_matrix(gene_feature_exp)"
      ],
      "id": "l8LCKBxZyGFK"
    },
    {
      "cell_type": "code",
      "execution_count": null,
      "metadata": {
        "id": "120d6698"
      },
      "outputs": [],
      "source": [
        "# Gene feature2:other species features\n",
        "row_list = [3215, 1137, 744, 2503, 1143, 324, 1188, 4662, 1243]\n",
        "gene_feature_list_other_spe = list()\n",
        "for i in range(1,9):\n",
        "    dg_ref = f['GenePhene'][i][0]\n",
        "    disease_gene_adj_tmp = sp.csc_matrix((np.array(f[dg_ref]['data']),\n",
        "        np.array(f[dg_ref]['ir']), np.array(f[dg_ref]['jc'])),\n",
        "        shape=(12331, row_list[i]))\n",
        "    gene_feature_list_other_spe.append(disease_gene_adj_tmp)"
      ],
      "id": "120d6698"
    },
    {
      "cell_type": "code",
      "execution_count": null,
      "metadata": {
        "id": "e2b407a4"
      },
      "outputs": [],
      "source": [
        "gene_feat = sp.hstack(gene_feature_list_other_spe+[gene_feature_exp])\n",
        "\n",
        "dis_feat = disease_tfidf"
      ],
      "id": "e2b407a4"
    },
    {
      "cell_type": "code",
      "execution_count": null,
      "metadata": {
        "id": "942e36ae"
      },
      "outputs": [],
      "source": [
        "### Create the gene disease network from gene network and disease network\n",
        "# gene Network\n",
        "gene_network_adj_row = (gene_network_adj.tocoo()).row\n",
        "gene_network_adj_col = (gene_network_adj.tocoo()).col\n",
        "gene_network_adj_value = np.array(f['GeneGene_Hs']['data'])\n",
        "gene_network_matrix = np.zeros((np.shape(gene_network_adj)))\n",
        "for i,j in zip(gene_network_adj_row,gene_network_adj_col):\n",
        "    gene_network_matrix[i,j] = 1"
      ],
      "id": "942e36ae"
    },
    {
      "cell_type": "code",
      "execution_count": null,
      "metadata": {
        "id": "fbebc2d4"
      },
      "outputs": [],
      "source": [
        "def network_edge_threshold(network_adj, threshold):\n",
        "    edge_tmp, edge_value, shape_tmp = sparse_to_tuple(network_adj)\n",
        "    preserved_edge_index = np.where(edge_value>threshold)[0]\n",
        "    preserved_network = sp.csr_matrix(\n",
        "        (edge_value[preserved_edge_index],\n",
        "        (edge_tmp[preserved_edge_index,0], edge_tmp[preserved_edge_index, 1])),\n",
        "        shape=shape_tmp)\n",
        "    return preserved_network"
      ],
      "id": "fbebc2d4"
    },
    {
      "cell_type": "code",
      "execution_count": null,
      "metadata": {
        "id": "ba851c63"
      },
      "outputs": [],
      "source": [
        "def sparse_to_tuple(sparse_mx):\n",
        "    if not sp.isspmatrix_coo(sparse_mx):\n",
        "        sparse_mx = sparse_mx.tocoo()\n",
        "    coords = np.vstack((sparse_mx.row, sparse_mx.col)).transpose()\n",
        "    values = sparse_mx.data\n",
        "    shape = sparse_mx.shape\n",
        "    return coords, values, shape"
      ],
      "id": "ba851c63"
    },
    {
      "cell_type": "code",
      "execution_count": null,
      "metadata": {
        "id": "22429e44"
      },
      "outputs": [],
      "source": [
        "# disease Network\n",
        "disease_network_adj = network_edge_threshold(disease_network_adj,0.2)\n",
        "disease_network_adj_row = (disease_network_adj.tocoo()).row\n",
        "disease_network_adj_col = (disease_network_adj.tocoo()).col\n",
        "disease_network_adj_value = np.array(f['PhenotypeSimilarities']['data'])\n",
        "disease_network_matrix = np.zeros((np.shape(disease_network_adj)))\n",
        "for i,j in zip(disease_network_adj_row,disease_network_adj_col):\n",
        "    disease_network_matrix[i,j] = 1\n",
        "disease_network_matrix = disease_network_matrix - np.diag(np.ones(len(disease_network_matrix)))"
      ],
      "id": "22429e44"
    },
    {
      "cell_type": "code",
      "execution_count": null,
      "metadata": {
        "id": "65f31989"
      },
      "outputs": [],
      "source": [
        "# gene-disease network\n",
        "novel_associations_adj_row = (novel_associations_adj.tocoo()).row\n",
        "novel_associations_adj_col = (novel_associations_adj.tocoo()).col\n",
        "novel_associations_adj_values = np.array(f['NovelAssociations']['data'])\n",
        "disease_gene_matrix = np.zeros((np.shape(novel_associations_adj)))\n",
        "for i,j in zip(novel_associations_adj_row,novel_associations_adj_col):\n",
        "    disease_gene_matrix[i,j] = 1\n",
        "\n",
        "comb1 = np.hstack((gene_network_matrix,disease_gene_matrix))\n",
        "comb2 = np.hstack((disease_gene_matrix.T,disease_network_matrix))\n",
        "comb = np.vstack((comb1,comb2))"
      ],
      "id": "65f31989"
    },
    {
      "cell_type": "code",
      "execution_count": null,
      "metadata": {
        "id": "15ddc530"
      },
      "outputs": [],
      "source": [
        "### Combine the fetaure matrix\n",
        "disease_network_adj_row = (disease_network_adj.tocoo()).row\n",
        "disease_network_adj_col = (disease_network_adj.tocoo()).col\n",
        "disease_network_adj_value = np.array(f['PhenotypeSimilarities']['data'])\n",
        "disease_network_matrix = np.zeros((np.shape(disease_network_adj)))\n",
        "for i,j in zip(disease_network_adj_row,disease_network_adj_col):\n",
        "    disease_network_matrix[i,j] = 1\n",
        "disease_network_matrix = disease_network_matrix - np.diag(np.ones(len(disease_network_matrix)))"
      ],
      "id": "15ddc530"
    },
    {
      "cell_type": "code",
      "execution_count": null,
      "metadata": {
        "id": "be2eae24",
        "colab": {
          "base_uri": "https://localhost:8080/"
        },
        "outputId": "9ade1a9b-36af-464e-8ea5-372f9cf0fd3f"
      },
      "outputs": [
        {
          "output_type": "stream",
          "name": "stderr",
          "text": [
            "<ipython-input-18-4852f0d96649>:4: UserWarning: Creating a tensor from a list of numpy.ndarrays is extremely slow. Please consider converting the list to a single numpy.ndarray with numpy.array() before converting to a tensor. (Triggered internally at ../torch/csrc/utils/tensor_new.cpp:261.)\n",
            "  edge_index = torch.tensor(comb.nonzero())\n"
          ]
        }
      ],
      "source": [
        "# edge_index, label and the feature matrix that will be used\n",
        "num_disease = 3215\n",
        "num_gene = 12331\n",
        "edge_index = torch.tensor(comb.nonzero())\n",
        "label = torch.zeros(num_disease+num_gene)\n",
        "label[0:num_gene] = 1\n",
        "disease_feat_matrix = dis_feat.tocsc().toarray()\n",
        "gene_feat_matrix = gene_feat.tocsc().toarray()\n",
        "disease_feat_none = np.zeros((num_gene,np.shape(disease_feat_matrix)[1]))\n",
        "gene_feat_none = np.zeros((num_disease,np.shape(gene_feat_matrix)[1]))"
      ],
      "id": "be2eae24"
    },
    {
      "cell_type": "code",
      "execution_count": null,
      "metadata": {
        "id": "58e87481"
      },
      "outputs": [],
      "source": [
        "import numpy as np\n",
        "feature_matrix = np.vstack((np.hstack((gene_feat_matrix, disease_feat_none)), np.hstack(\n",
        "    (gene_feat_none, disease_feat_matrix))))\n",
        "feature_matrix = torch.from_numpy(feature_matrix).double()"
      ],
      "id": "58e87481"
    },
    {
      "cell_type": "code",
      "execution_count": null,
      "metadata": {
        "id": "1xYLBkI80GXW",
        "colab": {
          "base_uri": "https://localhost:8080/"
        },
        "outputId": "64424d3b-6a37-42d9-e79c-96e10f3bb263"
      },
      "outputs": [
        {
          "output_type": "stream",
          "name": "stdout",
          "text": [
            "Collecting torch_geometric\n",
            "  Downloading torch_geometric-2.4.0-py3-none-any.whl (1.0 MB)\n",
            "\u001b[?25l     \u001b[90m━━━━━━━━━━━━━━━━━━━━━━━━━━━━━━━━━━━━━━━━\u001b[0m \u001b[32m0.0/1.0 MB\u001b[0m \u001b[31m?\u001b[0m eta \u001b[36m-:--:--\u001b[0m\r\u001b[2K     \u001b[91m━━━━━━━━━━━━━\u001b[0m\u001b[91m╸\u001b[0m\u001b[90m━━━━━━━━━━━━━━━━━━━━━━━━━━\u001b[0m \u001b[32m0.4/1.0 MB\u001b[0m \u001b[31m10.5 MB/s\u001b[0m eta \u001b[36m0:00:01\u001b[0m\r\u001b[2K     \u001b[91m━━━━━━━━━━━━━━━━━━━━━━━━━━━━━━━━━━━━━\u001b[0m\u001b[91m╸\u001b[0m\u001b[90m━━\u001b[0m \u001b[32m1.0/1.0 MB\u001b[0m \u001b[31m14.3 MB/s\u001b[0m eta \u001b[36m0:00:01\u001b[0m\r\u001b[2K     \u001b[90m━━━━━━━━━━━━━━━━━━━━━━━━━━━━━━━━━━━━━━━━\u001b[0m \u001b[32m1.0/1.0 MB\u001b[0m \u001b[31m12.2 MB/s\u001b[0m eta \u001b[36m0:00:00\u001b[0m\n",
            "\u001b[?25hRequirement already satisfied: tqdm in /usr/local/lib/python3.10/dist-packages (from torch_geometric) (4.66.1)\n",
            "Requirement already satisfied: numpy in /usr/local/lib/python3.10/dist-packages (from torch_geometric) (1.23.5)\n",
            "Requirement already satisfied: scipy in /usr/local/lib/python3.10/dist-packages (from torch_geometric) (1.11.4)\n",
            "Requirement already satisfied: jinja2 in /usr/local/lib/python3.10/dist-packages (from torch_geometric) (3.1.2)\n",
            "Requirement already satisfied: requests in /usr/local/lib/python3.10/dist-packages (from torch_geometric) (2.31.0)\n",
            "Requirement already satisfied: pyparsing in /usr/local/lib/python3.10/dist-packages (from torch_geometric) (3.1.1)\n",
            "Requirement already satisfied: scikit-learn in /usr/local/lib/python3.10/dist-packages (from torch_geometric) (1.2.2)\n",
            "Requirement already satisfied: psutil>=5.8.0 in /usr/local/lib/python3.10/dist-packages (from torch_geometric) (5.9.5)\n",
            "Requirement already satisfied: MarkupSafe>=2.0 in /usr/local/lib/python3.10/dist-packages (from jinja2->torch_geometric) (2.1.3)\n",
            "Requirement already satisfied: charset-normalizer<4,>=2 in /usr/local/lib/python3.10/dist-packages (from requests->torch_geometric) (3.3.2)\n",
            "Requirement already satisfied: idna<4,>=2.5 in /usr/local/lib/python3.10/dist-packages (from requests->torch_geometric) (3.6)\n",
            "Requirement already satisfied: urllib3<3,>=1.21.1 in /usr/local/lib/python3.10/dist-packages (from requests->torch_geometric) (2.0.7)\n",
            "Requirement already satisfied: certifi>=2017.4.17 in /usr/local/lib/python3.10/dist-packages (from requests->torch_geometric) (2023.11.17)\n",
            "Requirement already satisfied: joblib>=1.1.1 in /usr/local/lib/python3.10/dist-packages (from scikit-learn->torch_geometric) (1.3.2)\n",
            "Requirement already satisfied: threadpoolctl>=2.0.0 in /usr/local/lib/python3.10/dist-packages (from scikit-learn->torch_geometric) (3.2.0)\n",
            "Installing collected packages: torch_geometric\n",
            "Successfully installed torch_geometric-2.4.0\n"
          ]
        }
      ],
      "source": [
        "pip install torch_geometric"
      ],
      "id": "1xYLBkI80GXW"
    },
    {
      "cell_type": "code",
      "execution_count": null,
      "metadata": {
        "id": "0XtYYYbPyQkk"
      },
      "outputs": [],
      "source": [
        "from torch_geometric.datasets import Entities,Flickr\n",
        "import torch.nn as nn\n",
        "import matplotlib.pyplot as plt\n",
        "import numpy as np\n",
        "import torch\n",
        "import torch.nn.functional as F\n",
        "from torch.nn import Linear\n",
        "from torch.nn import BatchNorm1d\n",
        "from torch.utils.data import Dataset\n",
        "from torch_geometric.nn import GCNConv\n",
        "from torch_geometric.nn import ChebConv\n",
        "from torch_geometric.nn import global_add_pool, global_mean_pool\n",
        "from torch_geometric.data import DataLoader\n",
        "# from torch_scatter import scatter_mean\n",
        "\n",
        "from sklearn.metrics import roc_curve, auc\n",
        "from sklearn.metrics import precision_recall_curve\n",
        "from sklearn.metrics import f1_score\n",
        "import matplotlib as mpl\n",
        "import matplotlib.pyplot as plt\n",
        "\n",
        "from torch_geometric.data import InMemoryDataset\n",
        "from torch_geometric.data import Data\n",
        "import os.path as osp\n",
        "from torch_geometric.data import Dataset\n",
        "from torch_geometric.data import NeighborSampler\n",
        "from torch_geometric.data import Batch, ClusterData, ClusterLoader, DataLoader\n",
        "\n",
        "from torch_geometric.utils import (negative_sampling, remove_self_loops,\n",
        "                                   add_self_loops, structured_negative_sampling,train_test_split_edges)\n",
        "\n",
        "from sklearn.metrics import average_precision_score\n",
        "from sklearn.metrics import roc_auc_score\n",
        "from sklearn.metrics import f1_score\n",
        "from sklearn.metrics import precision_recall_curve\n",
        "\n",
        "import torch_geometric.transforms as T\n",
        "from torch_geometric.nn import GCNConv, ChebConv, RGCNConv  # noqa\n",
        "from torch_geometric.nn import Node2Vec\n",
        "\n",
        "import math\n",
        "import random\n",
        "from torch_geometric.utils import to_undirected\n",
        "from torch_geometric.data import GraphSAINTRandomWalkSampler, GraphSAINTSampler\n",
        "from torch_geometric.utils import degree\n",
        "from torch_geometric.nn import FastRGCNConv\n",
        "\n",
        "import copy\n",
        "\n",
        "# from .utils import DiseaseGeneDataset,train_test_split_edges\n"
      ],
      "id": "0XtYYYbPyQkk"
    },
    {
      "cell_type": "code",
      "execution_count": null,
      "metadata": {
        "id": "ghvOtDWH5OvM"
      },
      "outputs": [],
      "source": [
        "class DiseaseGeneDataset(InMemoryDataset):\n",
        "    def __init__(self, root, transform=None, pre_transform=None):\n",
        "        super(DiseaseGeneDataset, self).__init__(root, transform,\n",
        "                                                 pre_transform)\n",
        "        self.data, self.slices = torch.load(self.processed_paths[0])\n",
        "\n",
        "    @property\n",
        "    def raw_file_names(self):\n",
        "        return []\n",
        "\n",
        "    @property\n",
        "    def processed_file_names(self):\n",
        "        return ['data.pt']\n",
        "\n",
        "    def download(self):\n",
        "        pass\n",
        "\n",
        "    def process(self):\n",
        "\n",
        "        data_list = []\n",
        "\n",
        "        data = Data(x=feature_matrix, edge_index=edge_index, y=label)\n",
        "        data_list.append(data)\n",
        "\n",
        "        data, slices = self.collate(data_list)\n",
        "        torch.save((data, slices),self.processed_paths[0])"
      ],
      "id": "ghvOtDWH5OvM"
    },
    {
      "cell_type": "code",
      "execution_count": null,
      "metadata": {
        "id": "vsAWlaKK5IDy"
      },
      "outputs": [],
      "source": [
        "def train_test_split_edges(data, val_ratio=0.1, test_ratio=0.1):\n",
        "    \"\"\"Splits the edges of a :obj:`torch_geometric.data.Data` object\n",
        "    into positive and negative train/val/test edges, and adds attributes of\n",
        "    `train_pos_edge_index`, `train_neg_adj_mask`, `val_pos_edge_index`,\n",
        "    `val_neg_edge_index`, `test_pos_edge_index`, and `test_neg_edge_index`\n",
        "    to :attr:`data`.\n",
        "    Args:\n",
        "        data (Data): The data object.\n",
        "        val_ratio (float, optional): The ratio of positive validation\n",
        "            edges. (default: :obj:`0.05`)\n",
        "        test_ratio (float, optional): The ratio of positive test\n",
        "            edges. (default: :obj:`0.1`)\n",
        "    :rtype: :class:`torch_geometric.data.Data`\n",
        "    \"\"\"\n",
        "\n",
        "    assert 'batch' not in data  # No batch-mode.\n",
        "\n",
        "    num_nodes = data.num_nodes\n",
        "    row, col = data.edge_index\n",
        "    data.edge_index = None\n",
        "\n",
        "    # Return upper triangular portion.\n",
        "    mask = row < col\n",
        "    row, col = row[mask], col[mask]\n",
        "\n",
        "    n_v = int(math.floor(val_ratio * row.size(0)))\n",
        "    n_t = int(math.floor(test_ratio * row.size(0)))\n",
        "\n",
        "    # Positive edges.\n",
        "    perm = torch.randperm(row.size(0))\n",
        "    row, col = row[perm], col[perm]\n",
        "\n",
        "\n",
        "    r, c = row[:n_v], col[:n_v]\n",
        "    data.val_pos_edge_index = torch.stack([r, c], dim=0)\n",
        "    r, c = row[n_v:n_v + n_t], col[n_v:n_v + n_t]\n",
        "    data.test_pos_edge_index = torch.stack([r, c], dim=0)\n",
        "\n",
        "    r, c = row[n_v + n_t:], col[n_v + n_t:]\n",
        "    data.train_pos_edge_index = torch.stack([r, c], dim=0)\n",
        "    data.train_pos_edge_index = to_undirected(data.train_pos_edge_index)\n",
        "\n",
        "    # Negative edges.\n",
        "    neg_adj_mask = torch.ones(num_nodes, num_nodes, dtype=torch.uint8)\n",
        "    neg_adj_mask = neg_adj_mask.triu(diagonal=1).to(torch.bool)\n",
        "    neg_adj_mask[row, col] = 0\n",
        "\n",
        "    neg_row, neg_col = neg_adj_mask.nonzero(as_tuple=False).t()\n",
        "    perm = torch.randperm(neg_row.size(0))[:n_v + n_t]\n",
        "    neg_row, neg_col = neg_row[perm], neg_col[perm]\n",
        "\n",
        "    neg_adj_mask[neg_row, neg_col] = 0\n",
        "    data.train_neg_adj_mask = neg_adj_mask\n",
        "\n",
        "    row, col = neg_row[:n_v], neg_col[:n_v]\n",
        "    data.val_neg_edge_index = torch.stack([row, col], dim=0)\n",
        "\n",
        "    row, col = neg_row[n_v:n_v + n_t], neg_col[n_v:n_v + n_t]\n",
        "    data.test_neg_edge_index = torch.stack([row, col], dim=0)\n",
        "\n",
        "    return data"
      ],
      "id": "vsAWlaKK5IDy"
    },
    {
      "cell_type": "code",
      "execution_count": null,
      "metadata": {
        "id": "C8Xf_7Rv48nO"
      },
      "outputs": [],
      "source": [
        "num_nodes = 15546\n",
        "num_features = 37287\n",
        "\n",
        "num_gene = 12331\n",
        "num_Disease = 3215"
      ],
      "id": "C8Xf_7Rv48nO"
    },
    {
      "cell_type": "code",
      "execution_count": null,
      "metadata": {
        "id": "VqPO940QEWaD"
      },
      "outputs": [],
      "source": [
        "# feature_matrix_np = feature_matrix.numpy()\n",
        "# np.save(\"feature_matrix.txt.npy\", feature_matrix_np)"
      ],
      "id": "VqPO940QEWaD"
    },
    {
      "cell_type": "code",
      "execution_count": null,
      "metadata": {
        "id": "Lu_rSlhHERB9"
      },
      "outputs": [],
      "source": [
        "# feature_matrix = np.load(\"./feature_matrix.txt.npy\")\n",
        "# label = np.load(\"./label.txt.npy\")\n",
        "# edge_index = np.load(\"./edge_index.txt.npy\")"
      ],
      "id": "Lu_rSlhHERB9"
    },
    {
      "cell_type": "code",
      "execution_count": null,
      "metadata": {
        "id": "GZvu2_ndyQm-"
      },
      "outputs": [],
      "source": [
        "feature_matrix = feature_matrix.reshape((num_nodes,-1))\n",
        "edge_index = edge_index.reshape((2,-1))"
      ],
      "id": "GZvu2_ndyQm-"
    },
    {
      "cell_type": "code",
      "execution_count": null,
      "metadata": {
        "id": "dnO35nrN-Zwn"
      },
      "outputs": [],
      "source": [
        "feature_matrix = feature_matrix.numpy()"
      ],
      "id": "dnO35nrN-Zwn"
    },
    {
      "cell_type": "code",
      "execution_count": null,
      "metadata": {
        "id": "WGP5KBFOEp_a"
      },
      "outputs": [],
      "source": [
        "label = label.numpy()"
      ],
      "id": "WGP5KBFOEp_a"
    },
    {
      "cell_type": "code",
      "execution_count": null,
      "metadata": {
        "id": "Zq7fTJ6CEqGY"
      },
      "outputs": [],
      "source": [
        "edge_index = edge_index.numpy()"
      ],
      "id": "Zq7fTJ6CEqGY"
    },
    {
      "cell_type": "code",
      "execution_count": null,
      "metadata": {
        "id": "s7zh_NtqyQp0"
      },
      "outputs": [],
      "source": [
        "feature_matrix = torch.from_numpy(feature_matrix)\n",
        "label = torch.from_numpy(label).long()\n",
        "edge_index = torch.from_numpy(edge_index)"
      ],
      "id": "s7zh_NtqyQp0"
    },
    {
      "cell_type": "code",
      "execution_count": null,
      "metadata": {
        "id": "a-H4Nij8yQsc"
      },
      "outputs": [],
      "source": [
        "device = torch.device('cuda' if torch.cuda.is_available() else 'cpu')"
      ],
      "id": "a-H4Nij8yQsc"
    },
    {
      "cell_type": "code",
      "execution_count": null,
      "metadata": {
        "id": "spYumKDkyQxD",
        "colab": {
          "base_uri": "https://localhost:8080/"
        },
        "outputId": "bd0876c2-b084-4b2c-9798-6199cf8b7570"
      },
      "outputs": [
        {
          "output_type": "stream",
          "name": "stderr",
          "text": [
            "Processing...\n",
            "Done!\n"
          ]
        }
      ],
      "source": [
        "dataset_gd = DiseaseGeneDataset(root = \"/scratch/gilbreth/shu30/GraphDropout/disease_gene.dataset\")"
      ],
      "id": "spYumKDkyQxD"
    },
    {
      "cell_type": "code",
      "execution_count": null,
      "metadata": {
        "id": "J-CMBIWsL5YA"
      },
      "outputs": [],
      "source": [
        "# import torch\n",
        "# import torch.nn.functional as F\n",
        "# from torch_geometric.nn import GATConv\n",
        "# from torch_geometric.data import Data\n",
        "\n",
        "# class GATNet(torch.nn.Module):\n",
        "#     def __init__(self, num_features, num_heads=8, dropout_rate=0.6):\n",
        "#         super(GATNet, self).__init__()\n",
        "#         self.conv1 = GATConv(num_features, 8, heads=num_heads, dropout=dropout_rate)\n",
        "#         self.conv2 = GATConv(8 * num_heads, 1, heads=1, dropout=dropout_rate)\n",
        "#         self.dropout_rate = dropout_rate  # Store as an instance variable\n",
        "\n",
        "#     def forward(self, x, edge_index):\n",
        "#         x = F.dropout(x, p=self.dropout_rate, training=self.training)\n",
        "#         x = F.elu(self.conv1(x, edge_index))\n",
        "#         x = F.dropout(x, p=self.dropout_rate, training=self.training)\n",
        "#         x = self.conv2(x, edge_index)\n",
        "#         return x\n",
        "\n",
        "\n",
        "# feature_matrix = feature_matrix.float()\n",
        "# edge_index = edge_index.long()\n",
        "\n",
        "# # Validate edge_index here\n",
        "# num_nodes = feature_matrix.size(0)\n",
        "# if edge_index.max().item() >= num_nodes or edge_index.min().item() < 0:\n",
        "#     raise ValueError(f\"Edge index out of range. Valid index range: [0, {num_nodes - 1}], but got range [{edge_index.min().item()}, {edge_index.max().item()}].\")\n",
        "\n",
        "# num_features = feature_matrix.shape[1]\n",
        "# model = GATNet(num_features).float()\n",
        "\n",
        "# label = label.float()  # Ensure label is float\n",
        "# data = Data(x=feature_matrix, edge_index=edge_index, y=label)\n",
        "\n",
        "# device = torch.device('cuda' if torch.cuda.is_available() else 'cpu')\n",
        "# model = model.to(device)\n",
        "# data = data.to(device)\n",
        "\n",
        "# criterion = torch.nn.BCEWithLogitsLoss()\n",
        "# optimizer = torch.optim.Adam(model.parameters(), lr=0.005, weight_decay=5e-4)\n",
        "\n",
        "# for epoch in range(200):\n",
        "#     model.train()\n",
        "#     optimizer.zero_grad()\n",
        "#     out = model(data.x.to(device), data.edge_index.to(device))\n",
        "#     loss = criterion(out.squeeze(), data.y.to(device))\n",
        "#     loss.backward()\n",
        "#     optimizer.step()\n",
        "\n",
        "#     if epoch % 10 == 0:\n",
        "#         print(f'Epoch {epoch+1}, Loss: {loss.item()}')\n",
        "\n"
      ],
      "id": "J-CMBIWsL5YA"
    },
    {
      "cell_type": "code",
      "execution_count": null,
      "metadata": {
        "id": "vpNQoHN4yQ2T",
        "colab": {
          "base_uri": "https://localhost:8080/"
        },
        "outputId": "d4a0dba4-4ddd-47fe-b2c8-f4c54b67708e"
      },
      "outputs": [
        {
          "output_type": "stream",
          "name": "stderr",
          "text": [
            "/usr/local/lib/python3.10/dist-packages/torch_geometric/data/in_memory_dataset.py:284: UserWarning: It is not recommended to directly access the internal storage format `data` of an 'InMemoryDataset'. If you are absolutely certain what you are doing, access the internal storage via `InMemoryDataset._data` instead to suppress this warning. Alternatively, you can access stacked individual attributes of every graph via `dataset.{attr_name}`.\n",
            "  warnings.warn(msg)\n"
          ]
        }
      ],
      "source": [
        "data = dataset_gd.data\n",
        "data.num_classes = 2\n",
        "data.num_relations = 3\n",
        "data = train_test_split_edges(data, val_ratio=0.05, test_ratio=0.1)\n",
        "data_dropout = copy.deepcopy(data)"
      ],
      "id": "vpNQoHN4yQ2T"
    },
    {
      "cell_type": "code",
      "execution_count": null,
      "metadata": {
        "id": "lvbKwTx7yQ4_"
      },
      "outputs": [],
      "source": [
        "edge_index = data.train_pos_edge_index\n",
        "num_gene = 12331\n",
        "gg_index = []\n",
        "dd_index = []\n",
        "gd_index = []\n",
        "for i in range(edge_index.shape[1]):\n",
        "    if (edge_index[:,i][0] < num_gene and edge_index[:,i][1] >= num_gene) or (edge_index[:,i][0] >= num_gene and edge_index[:,i][1] <= num_gene):\n",
        "        gd_index.append(i)\n",
        "    elif (edge_index[:,i][0] < num_gene and edge_index[:,i][1] < num_gene):\n",
        "        gg_index.append(i)\n",
        "    else:\n",
        "        dd_index.append(i)"
      ],
      "id": "lvbKwTx7yQ4_"
    },
    {
      "cell_type": "code",
      "execution_count": null,
      "metadata": {
        "id": "UmNbQxouyQ9f"
      },
      "outputs": [],
      "source": [
        "edge_type_gd = torch.zeros(edge_index.shape[1]).long()\n",
        "edge_type_gd[gd_index] = torch.zeros(len(gd_index)).long()\n",
        "edge_type_gd[gg_index] = torch.ones(len(gg_index)).long()\n",
        "edge_type_gd[dd_index] = 2 * torch.ones(len(dd_index)).long()"
      ],
      "id": "UmNbQxouyQ9f"
    },
    {
      "cell_type": "code",
      "execution_count": null,
      "metadata": {
        "id": "SxmOOAyNFI9z"
      },
      "outputs": [],
      "source": [
        "data.edge_type = edge_type_gd\n",
        "data_dropout.edge_type = edge_type_gd"
      ],
      "id": "SxmOOAyNFI9z"
    },
    {
      "cell_type": "code",
      "execution_count": 44,
      "metadata": {
        "id": "8Mkwt2Q7FLsc"
      },
      "outputs": [],
      "source": [
        "class Net(torch.nn.Module):\n",
        "    def __init__(self):\n",
        "        super(Net, self).__init__()\n",
        "        self.conv1 = RGATConv(data.num_features, 32, data.num_relations,\n",
        "                              num_bases=30)\n",
        "        self.conv2 = RGATConv(32, 16, data.num_relations,\n",
        "                              num_bases=30)\n",
        "        self.fc1 = Linear(16, 16)\n",
        "\n",
        "        self.Dropconv1 = GCNConv(data.num_features, 16, cached=False).to(torch.double)\n",
        "        self.Dropconv2 = GCNConv(16, 16, cached=False).to(torch.double)\n",
        "        self.Dropfc1 = Linear(16, 16).to(torch.double)\n",
        "\n",
        "    def reparameterize(self,logvar):\n",
        "        std = torch.exp(-0.5*logvar)\n",
        "        return std\n",
        "\n",
        "    def getvar(self):\n",
        "        x = F.relu(self.Dropconv1(data.x, data.train_pos_edge_index))\n",
        "        x = self.Dropconv2(x, data.train_pos_edge_index)\n",
        "        x = self.Dropfc1(x)\n",
        "        return x\n",
        "\n",
        "    def GCN(self,z=None):\n",
        "\n",
        "        y = F.relu(self.conv1(data.x, data.train_pos_edge_index, data.edge_type))\n",
        "        y = self.conv2(y, data.train_pos_edge_index, data.edge_type)\n",
        "        y = self.fc1(y)\n",
        "        if TRAIN:\n",
        "            y_out = y.mul(torch.randn(y.size()).to(device).mul(z)+1)\n",
        "        else:\n",
        "            y_out = y\n",
        "        return y_out\n",
        "\n",
        "\n",
        "    def forward(self, pos_edge_index, neg_edge_index):\n",
        "        if TRAIN:\n",
        "            z = self.reparameterize(self.getvar())\n",
        "            out = self.GCN(z)\n",
        "            total_edge_index = torch.cat([pos_edge_index, neg_edge_index], dim=-1)\n",
        "            x_j = torch.index_select(out, 0, total_edge_index[0])\n",
        "            x_i = torch.index_select(out, 0, total_edge_index[1])\n",
        "            return torch.einsum(\"ef,ef->e\", x_i, x_j), z, out\n",
        "        else:\n",
        "            out = self.GCN()\n",
        "            total_edge_index = torch.cat([pos_edge_index, neg_edge_index], dim=-1)\n",
        "            x_j = torch.index_select(out, 0, total_edge_index[0])\n",
        "            x_i = torch.index_select(out, 0, total_edge_index[1])\n",
        "            return torch.einsum(\"ef,ef->e\", x_i, x_j), None, out  # Return None for the second value"
      ],
      "id": "8Mkwt2Q7FLsc"
    },
    {
      "cell_type": "code",
      "execution_count": null,
      "metadata": {
        "id": "BrreDZM9F8B6"
      },
      "outputs": [],
      "source": [
        "class My_loss(torch.nn.Module):\n",
        "    def __init__(self):\n",
        "        super().__init__()\n",
        "\n",
        "    def forward(self, x, y, y_d):\n",
        "        loss = F.binary_cross_entropy_with_logits(x, y)\n",
        "        if y_d is not None:\n",
        "            loss += 0.000001 * torch.sum(torch.sum(torch.log(y_d)**2))\n",
        "        return loss\n",
        "\n",
        "def get_link_labels(pos_edge_index, neg_edge_index):\n",
        "    link_labels = torch.zeros(pos_edge_index.size(1) +\n",
        "                              neg_edge_index.size(1)).float().to(device)\n",
        "    link_labels[:pos_edge_index.size(1)] = 1.\n",
        "    return link_labels\n",
        "\n",
        "def get_dis_gene_edges(edge_indices,edge_type):\n",
        "    edges = []\n",
        "    for i in range(edge_indices.shape[1]):\n",
        "        if (edge_indices[:,i][0] < num_gene and edge_indices[:,i][1] >= num_gene) or (edge_indices[:,i][0] >= num_gene and edge_indices[:,i][1] < num_gene):\n",
        "            edges.append(i)\n",
        "    return edge_indices[:,edges],edge_type[edges]"
      ],
      "id": "BrreDZM9F8B6"
    },
    {
      "cell_type": "code",
      "execution_count": null,
      "metadata": {
        "id": "ZtIpon3ZF8JM"
      },
      "outputs": [],
      "source": [
        "train_pos_edge_index,train_edge_type = get_dis_gene_edges(data.train_pos_edge_index,data.edge_type)\n",
        "data.train_pos_edge_index = train_pos_edge_index\n",
        "data.edge_type = train_edge_type"
      ],
      "id": "ZtIpon3ZF8JM"
    },
    {
      "cell_type": "code",
      "execution_count": 56,
      "metadata": {
        "id": "xqwarCmrF8L8"
      },
      "outputs": [],
      "source": [
        "def train():\n",
        "    TRAIN = True\n",
        "    model.train()\n",
        "    optimizer.zero_grad()\n",
        "\n",
        "    x, pos_edge_index = data.x, data.train_pos_edge_index\n",
        "\n",
        "    _edge_index, _ = remove_self_loops(pos_edge_index)\n",
        "    pos_edge_index_with_self_loops, _ = add_self_loops(_edge_index,\n",
        "                                                       num_nodes=x.size(0))\n",
        "\n",
        "    neg_edge_index = negative_sampling(\n",
        "        edge_index=pos_edge_index_with_self_loops, num_nodes=x.size(0),\n",
        "        num_neg_samples=3 * pos_edge_index.size(1))\n",
        "\n",
        "    neg_edge_type = torch.zeros(neg_edge_index.shape[1]).long()\n",
        "    neg_edge_index, neg_edge_type = get_dis_gene_edges(neg_edge_index,neg_edge_type)\n",
        "\n",
        "    link_logits,y_d,node_embedding = model(pos_edge_index, neg_edge_index)\n",
        "    link_labels = get_link_labels(pos_edge_index, neg_edge_index)\n",
        "\n",
        "    #print(\"TrainROC:\",roc_auc_score(link_labels.detach().cpu(), torch.sigmoid(link_logits.detach().cpu())),\"TrainPRC:\",average_precision_score(link_labels.detach().cpu(), torch.sigmoid(link_logits.detach().cpu())))\n",
        "\n",
        "    criterion = My_loss()\n",
        "    loss = criterion(link_logits, link_labels, y_d)\n",
        "    loss.backward()\n",
        "    optimizer.step()\n",
        "\n",
        "    return loss\n"
      ],
      "id": "xqwarCmrF8L8"
    },
    {
      "cell_type": "code",
      "execution_count": 54,
      "metadata": {
        "id": "7HgrwTpyF8Ov"
      },
      "outputs": [],
      "source": [
        "from torch_geometric.nn import RGATConv\n",
        "model, data, data_dropout = Net().to(device), data.to(device), data_dropout.to(device)\n",
        "optimizer = torch.optim.Adam(model.parameters(), lr=0.001, weight_decay=0.0005)\n",
        "model = model.double()\n",
        "test_pos = []\n",
        "for i in range(data.test_pos_edge_index.shape[1]):\n",
        "    if (data.test_pos_edge_index[:,i][0] < num_gene and data.test_pos_edge_index[:,i][1] >= num_gene) or (data.test_pos_edge_index[:,i][0] >= num_gene and data.test_pos_edge_index[:,i][1] <= num_gene):\n",
        "        test_pos.append(i)\n",
        "test_pos_edge_index = data.test_pos_edge_index[:,test_pos].to(device)\n",
        "\n",
        "test_neg = []\n",
        "for i in range(data.test_neg_edge_index.shape[1]):\n",
        "    if (data.test_neg_edge_index[:,i][0] < num_gene and data.test_neg_edge_index[:,i][1] >= num_gene) or (data.test_neg_edge_index[:,i][0] >= num_gene and data.test_neg_edge_index[:,i][1] <= num_gene):\n",
        "        test_neg.append(i)\n",
        "test_neg_edge_index = data.test_neg_edge_index[:,test_neg].to(device)\n",
        "\n",
        "@torch.no_grad()\n",
        "def test():\n",
        "    TRAIN = False\n",
        "    model.eval()\n",
        "    link_probs = torch.sigmoid(model(test_pos_edge_index, test_neg_edge_index[:,range(test_pos_edge_index.shape[1])])[0])\n",
        "    link_labels = get_link_labels(test_pos_edge_index, test_neg_edge_index[:,range(test_pos_edge_index.shape[1])])\n",
        "    link_probs = link_probs.detach().cpu().numpy()\n",
        "    link_labels = link_labels.detach().cpu().numpy()\n",
        "    #print(\"TestROC:\",roc_auc_score(link_labels, link_probs))\n",
        "    #print(\"TestPRC:\",average_precision_score(link_labels, link_probs))\n",
        "\n",
        "    return link_labels, link_probs\n",
        "\n",
        "best_val_perf = test_perf = 0\n",
        "\n"
      ],
      "id": "7HgrwTpyF8Ov"
    },
    {
      "cell_type": "code",
      "execution_count": 57,
      "metadata": {
        "id": "RfjLEdMNF8RY"
      },
      "outputs": [],
      "source": [
        "for epoch in range(1, 700):\n",
        "    TRAIN = True\n",
        "    train_loss = train()\n",
        "    TRAIN = False\n",
        "    labels, probs = test()"
      ],
      "id": "RfjLEdMNF8RY"
    }
  ],
  "metadata": {
    "colab": {
      "provenance": [],
      "machine_shape": "hm"
    },
    "kernelspec": {
      "display_name": "Python 3",
      "name": "python3"
    },
    "language_info": {
      "codemirror_mode": {
        "name": "ipython",
        "version": 3
      },
      "file_extension": ".py",
      "mimetype": "text/x-python",
      "name": "python",
      "nbconvert_exporter": "python",
      "pygments_lexer": "ipython3",
      "version": "3.9.5"
    }
  },
  "nbformat": 4,
  "nbformat_minor": 5
}